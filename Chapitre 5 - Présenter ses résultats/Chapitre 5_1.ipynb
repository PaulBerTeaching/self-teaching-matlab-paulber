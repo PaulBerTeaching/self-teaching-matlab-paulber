{
 "cells": [
  {
   "cell_type": "markdown",
   "metadata": {},
   "source": [
    "# Présentation des résultats\n",
    "Réaliser des calculs vectoriels ou matriciels comme nous avons appris dans les chapitres précédents c'est bien, mais c'est encore mieux de pouvour visualiser graphiquement les résultats obtenus. Nous verrons dans ce chapitre les différentes possibilités proposées par Matlab pour présenter des résultats sous la forme d'une courbe 2D ou 3D, un nuage de points, un graphique de surface, des courbes de niveau ou même une animation. Nous vous présenterons aussi les fonctions qui permettent de sauvegarder les images ou vidéos obtenues. Nous essayerons d'être clairs et précis mais pour toute question ou remarque sur les lignes qui suivent, n'hésitez pas à envoyer un mail à leur auteur Carlos Sosa Marrero (carlos.sosa@univ-rennes1.fr).  "
   ]
  },
  {
   "cell_type": "markdown",
   "metadata": {},
   "source": [
    "## Les courbes 2D\n",
    "Commençons par la forme la plus simple de représentation. La fonction `plot(x, y)` crée une courbe 2D à partir des données dans `y` et les valeurs correspondantes dans `x`. Regardons l'exemple suivant."
   ]
  },
  {
   "cell_type": "code",
   "execution_count": null,
   "metadata": {},
   "outputs": [],
   "source": [
    "x = linspace(0, 2*pi, 101);\n",
    "y = sin(x);\n",
    "figure(1) # nous verrons dans la suite l'utilité de cette ligne\n",
    "plot(x, y)"
   ]
  },
  {
   "cell_type": "markdown",
   "metadata": {},
   "source": [
    "Et voilà comment nous pouvons visualiser en une seule ligne de commande notre fonction sinus. Vous nous accorderez pourtant que le graphique est un peu vide. Nous aimerions bien lui donner un titre, indiquer les nom des axes ou ajouter une grille. Et bien, pas de souci. Matlab permet de faire tout cela de façon simple et intuitive. Voyons les commandes qu'il faut utiliser. \n",
    "\n",
    "## Le titre d'un graphique \n",
    "Nous pouvons donner un titre à notre graphique en utilisant la fonction `title('text')`, comme vous verrez dans l'exemple suivant.\n",
    "\n",
    "## Les propriétés des axes\n",
    "Comme nous illustrerons avec l'exemple suivant, nous pouvons indiquer les noms des axes x et y à l'aide des fonctions `xlabel('text')` et `ylabel('text')`, respectivement. Il est également possible de modifier leurs valeurs limites, à l'aide de la fonction `axis([xmin xmax ymin ymax])`, ainsi que leurs subdivisions. Pour cette dernière tâche, nous devons utiliser la fonction `set`, qui permet de modifier les propriétés d'un graphique. Nous lui indiquons la figure que nous voulons éditer, dans la plupart des cas, le graphique courant, renvoyé par la commande `gca` (*Get current axis*); le nom de la propriété que nous souhaitons modifier ('XTick', 'YTick' ou 'XTickLabel') et la nouvelle valeur de la propriété en question. Vous remarquerez dans l'exemple suivant que Matlab possède un interprète qui permet d'indiquer les titres ou les noms des axes en $\\LaTeX{}$. À partir de la version R2016b de Matlab, vous pouvez réaliser ces modifications de manière plus simple à l'aide des fonctions `xticks(ticks)`, `yticks(ticks)`, `xticklabels(labels)` et `yticklabels(labels)`.\n",
    "\n",
    "## Comment ajouter une grille\n",
    "La commande `grid on` permet d'afficher une grille à l'arrière plan du graphique, comme nous vous montrons dans l'exemple suivant. "
   ]
  },
  {
   "cell_type": "code",
   "execution_count": null,
   "metadata": {},
   "outputs": [],
   "source": [
    "x = linspace(0, 2*pi, 101);\n",
    "y = sin(x);\n",
    "figure(1) # nous verrons dans la suite l'utilité de cette ligne\n",
    "plot(x, y)\n",
    "title('Sinus')\n",
    "axis([0, 2*pi, -1, 1])\n",
    "set(gca, 'XTick', 0:0.25*pi:2*pi)\n",
    "set(gca, 'YTick', -1:0.25:1)\n",
    "xTicksLabel = {'0', '\\pi/4', '\\pi/2', '3\\pi/4', '\\pi', '5\\pi/4', '3\\pi/2', '7\\pi/4', '2\\pi'};\n",
    "set(gca, 'XTickLabel', xTicksLabel)\n",
    "xlabel('x')\n",
    "ylabel('y')\n",
    "grid on"
   ]
  },
  {
   "cell_type": "markdown",
   "metadata": {},
   "source": [
    "## La création de fenêtres de figure\n",
    "Si vous avez lu attentivement les blocs de code des deux exemples précédents, vous avez sûrement remarqué l'existence d'une fonction (`figure(1)`) dont nous n'avons pas encore expliqué l'utilité. Ne vous inquiétez pas, le mystère sera dévoilé dans les lignes suivantes. En effet, à chaque fois que nous demandons à Matlab de créer un graphique (pour l'instant vous ne connaissez que la fonction `plot(x, y)` pour ce faire) il a besoin d'une \"fenêtre de figure\" pour l'afficher. La fonction `figure(H)` sert justement à construire une telle fenêtre `H`. Automatiquement, Matlab crée une première fenêtre appelée `Figure 1`. Vous vous dites alors qu'il n'y aurait pas besoin de la définir nous mêmes pour les exemples précédents. C'est tout à fait vrai. Vous pouvez vous amuser à mettre les lignes en question en commentaire et constater que vous continuez à obtenir les graphiques correspondants sans problème. Cependant, regardons l'exemple suivant."
   ]
  },
  {
   "cell_type": "code",
   "execution_count": null,
   "metadata": {},
   "outputs": [],
   "source": [
    "x = linspace(0, 2*pi, 101);\n",
    "\n",
    "sinx = sin(x);\n",
    "plot(x, sinx)\n",
    "title('Sinus')\n",
    "xlabel('x')\n",
    "ylabel('y')\n",
    "grid on\n",
    "\n",
    "cosx = cos(x);\n",
    "plot(x, cosx)\n",
    "title('Cosinus')\n",
    "xlabel('x')\n",
    "ylabel('y')\n",
    "grid on"
   ]
  },
  {
   "cell_type": "markdown",
   "metadata": {},
   "source": [
    "Nous créons deux graphiques des fonctions trigonométriques, auxquels nous donnons même les titres correspondants, mais nous ne voyons à l'écran que celui correspondant à *cos(x)*. À quoi est-il dû ce fait ? Et bien, en fait, Matlab ne crée automatiquement qu'une seule fenêtre de figure dans laquelle il affiche tout nouveau graphique en remplaçant le précédent. En conséquence, nous avons beau créer mille et un graphiques, nous n'allons pouvoir visualiser à l'écran que le dernier. Heureusement, la fonction `figure(H)` est là pour nous aider. Nous pouvons grâce à elle définir une nouvelle fenêtre de figure `H` pour chaque graphique. La commande `close all`, que nous vous conseillons d'inclure au début de vos scripts, ferme toutes les fenêtres de figure existantes. Regardons l'exemple suivant. "
   ]
  },
  {
   "cell_type": "code",
   "execution_count": null,
   "metadata": {},
   "outputs": [],
   "source": [
    "close all\n",
    "\n",
    "x = linspace(0, 2*pi, 101);\n",
    "\n",
    "sinx = sin(x);\n",
    "figure(1) # cette ligne reste encore facultative\n",
    "plot(x, sinx)\n",
    "title('Sinus')\n",
    "xlabel('x')\n",
    "ylabel('y')\n",
    "grid on\n",
    "\n",
    "cosx = cos(x);\n",
    "figure(2)\n",
    "plot(x, cosx)\n",
    "title('Cosinus')\n",
    "xlabel('x')\n",
    "ylabel('y')\n",
    "grid on"
   ]
  },
  {
   "cell_type": "markdown",
   "metadata": {},
   "source": [
    "Nous pourrions nous contenter d'indiquer le numéro de chaque fenêtre de figure de forme explicite. Cependant, si jamais nous voulions ajouter une figure au milieu du code, nous serions obligés de modifier manuellement tous les appels à `figure` successifs. Pour éviter cette tâche qui, vous nous accorderez, semble un peu répétitive, nous vous conseillons de définir une variable `nfig`, de l'initialiser à zéro et de l'incrémenter d'une unité avant chaque graphique, comme nous vous montrons dans l'exemple suivant."
   ]
  },
  {
   "cell_type": "code",
   "execution_count": null,
   "metadata": {},
   "outputs": [],
   "source": [
    "#close all \n",
    "\n",
    "#nfig = 0;\n",
    "\n",
    "#nfig = nfig + 1;\n",
    "#figure(nfig)\n",
    "#un graphique\n",
    "\n",
    "#nfig = nfig + 1;\n",
    "#figure(nfig)\n",
    "#un autre graphique\n",
    "\n",
    "#nfig = nfig + 1;\n",
    "#figure(nfig)\n",
    "#encore un autre graphique\n",
    "\n",
    "#nfig = nfig + 1;\n",
    "#figure(nfig)\n",
    "#...\n",
    "\n"
   ]
  },
  {
   "cell_type": "markdown",
   "metadata": {},
   "source": [
    "## Comment sauvegarder des figures\n",
    "Si vous suivez notre conseil d'inclure la commande `close all` au début des vos scripts, vous constaterez que toutes les fenêtres de figures existantes au préalable disparaissent lorsque vous appuyez sur la touche `F5` de votre clavier. Vous nous accorderez que, parfois, il est un peu dommage d'envoyer de si belles images au cimetière des figures oubliées. Heureusement, Matlab a prévu une commande pour éviter cette situation douloureuse. Il s'agit de `saveas(fig, filename)`. Elle permet d'enregistrer la figure numéro `fig` sous le nom `filename`. Nous nous permettons de vous rappeler que l'extension (.png, .jpg, .tif, etc.) fait partie du `filename`. "
   ]
  },
  {
   "cell_type": "markdown",
   "metadata": {},
   "source": [
    "## Comment tracer plusieurs courbes sur un même graphique\n",
    "Vous êtes capables, arrivés à ce point, d'afficher autant de courbes 2D que vous en voulez dans des fenêtres différentes. Cependant, dans certains cas, nous avons besoin de tracer plusieurs courbes dans un même graphique afin de les comparer. Pour ce faire, nous utilisons les commandes `hold on` et `hold off` comme nous vous montrons dans l'exemple suivant. Nous remarquons que Matlab trace automatiquement chaque courbe en une couleur différente mais, a priori, nous ne pouvons pas discerner quelle couleur correspond à quelle courbe. Nous avons alors besoin d'ajouter une légende à notre graphique. Ceci se fait à l'aide de la fonction `legend(label1, ..., labelN)`. Pour savoir comment forcer Matlab à tracer une courbe en une couleur précise, ainsi qu'indiquer son épaisseur, son style (pointillée, continue, etc) ou le symbole utilisé pour marquer ses points, nous vous invitons à consulter la documentation de la fonction `plot`."
   ]
  },
  {
   "cell_type": "code",
   "execution_count": null,
   "metadata": {},
   "outputs": [],
   "source": [
    "close all\n",
    "nfig = 0;\n",
    "\n",
    "x = linspace(0, 2*pi, 101);\n",
    "sinx = sin(x);\n",
    "cosx = cos(x);\n",
    "\n",
    "nfig = nfig + 1;\n",
    "figure(nfig)\n",
    "hold on \n",
    "plot(x, sinx)\n",
    "plot(x, cosx)\n",
    "hold off\n",
    "title('Fonctions trigonometriques')\n",
    "xlabel('x')\n",
    "ylabel('y')\n",
    "legend('Sinus', 'Cosinus')\n",
    "grid on"
   ]
  },
  {
   "cell_type": "markdown",
   "metadata": {},
   "source": [
    "## Les subplots"
   ]
  },
  {
   "cell_type": "markdown",
   "metadata": {},
   "source": [
    "Dans certains cas, il peut être pratique d'afficher plusieurs courbes dans la même fenêtre mais dans des graphiques différents. Matlab a prévu la fonction `subplot(m, n, p)` à cet effet. Elle divise une fenêtre de figure en une grille de taille `m` x `n` et crée de nouveaux axes dans la position `p`. Si la fenêtre a déjà une grille, elle se contente de créer les axes pour pouvoir tracer la courbe en question après (en appelant `plot`, ou n'importe quelle autre fonction de représentation graphique). Nous vous montrons un exemple d'utilisation de `subplot` pour des sinus de différentes fréquences angulaires."
   ]
  },
  {
   "cell_type": "code",
   "execution_count": null,
   "metadata": {},
   "outputs": [],
   "source": [
    "close all\n",
    "nfig = 0;\n",
    "\n",
    "x = linspace(0, 2*pi, 101);\n",
    "omega = [1, 2, 3, 4, 5, 6];\n",
    "\n",
    "nfig = nfig + 1;\n",
    "figure(nfig)\n",
    "for i = 1:4\n",
    "    subplot(2, 2, i)\n",
    "    plot(x, sin(omega(i) * x));\n",
    "    title(['omega = ', num2str(omega(i))])\n",
    "end"
   ]
  },
  {
   "cell_type": "markdown",
   "metadata": {},
   "source": [
    "## Les nuages de points\n",
    "Matlab permet de créer des nuages de points donnés par `x` et `y` à l'aide de la fonction `scatter(x, y)`. Regardons l'exemple suivant."
   ]
  },
  {
   "cell_type": "code",
   "execution_count": null,
   "metadata": {
    "scrolled": false
   },
   "outputs": [],
   "source": [
    "close all\n",
    "\n",
    "nfig = 0;\n",
    "\n",
    "x = linspace(0, 2*pi, 101);\n",
    "y = sin(x) + rand(1, 101);\n",
    "\n",
    "nfig = nfig + 1;\n",
    "figure(nfig)\n",
    "scatter(x, y)\n",
    "title('Sinus avec un peu de bruit')\n",
    "xlabel('x')\n",
    "ylabel('y')\n",
    "grid on"
   ]
  },
  {
   "cell_type": "markdown",
   "metadata": {},
   "source": [
    "Pour découvrir comment changer la couleur, la taille ou la forme des points, nous vous invitons à regarder la documentation de la fonction. "
   ]
  },
  {
   "cell_type": "markdown",
   "metadata": {},
   "source": [
    "## Les courbes 3D\n",
    "Les possibilités de représentation offertes par Matlab ne se limitent pas au plan xy. Nous pouvons également créer des graphiques en trois dimensions. Commençons par leur forme la plus simple, les courbes 3D.  Pour les tracer, nous devons utiliser la fonction `plot3(x, y, z)`, comme nous montrons dans l'exemple suivant. "
   ]
  },
  {
   "cell_type": "code",
   "execution_count": null,
   "metadata": {},
   "outputs": [],
   "source": [
    "close all\n",
    "nfig = 0;\n",
    "\n",
    "theta = 0:0.1:20*pi;\n",
    "r = linspace (0, 1, length(theta));\n",
    "z = linspace (0, 1, length(theta));\n",
    "x = r.*cos(theta);\n",
    "y = r.*sin(theta);\n",
    "\n",
    "nfig = nfig + 1;\n",
    "figure(nfig)\n",
    "plot3 (x, y, z);\n",
    "title('Spirale 3D')\n",
    "xlabel('x')\n",
    "ylabel('y')\n",
    "zlabel('z')"
   ]
  },
  {
   "cell_type": "markdown",
   "metadata": {},
   "source": [
    "## Les courbes de niveau\n",
    "Nous pouvons tracer des courbes de niveau à l'aide de la fonction `contour(X, Y, Z)`. Elle reçoit en argument `X` et `Y`, deux matrices contenant, respectivement, les coordonnées x et y des points de la surface en question, et `Z`, une troisième matrice avec les valeurs en z de ces points. Pour construire `X` et `Y` de façon simple, nous vous conseillons de faire appel à la fonction `meshgrid(xgv, ygv)`, où `xgv`et `ygv` sont des vecteurs contenant les coordonnées en x et y, respectivement."
   ]
  },
  {
   "cell_type": "code",
   "execution_count": null,
   "metadata": {},
   "outputs": [],
   "source": [
    "close all\n",
    "nfig = 0;\n",
    "\n",
    "[X, Y] = meshgrid(0:0.5:10, 0:0.5:20);\n",
    "Z = sin(X) + cos(Y);\n",
    "\n",
    "nfig = nfig + 1;\n",
    "figure(nfig)\n",
    "contour(X, Y, Z)\n",
    "title('z = sin(x) + cos(y)')\n",
    "xlabel('x')\n",
    "ylabel('y')"
   ]
  },
  {
   "cell_type": "markdown",
   "metadata": {},
   "source": [
    "### Les graphiques de surface\n",
    "Matlab permet également la création de graphiques de surface. La fonction `surf(x, y, z)` a été développée à cet effet. Elle reçoit en argument les mêmes matrices que `contour(X, Y, Z)`. Regardons l'exemple suivant."
   ]
  },
  {
   "cell_type": "code",
   "execution_count": null,
   "metadata": {
    "scrolled": true
   },
   "outputs": [],
   "source": [
    "close all\n",
    "nfig = 0;\n",
    "\n",
    "[X, Y] = meshgrid(0:0.5:10, 0:0.5:20);\n",
    "Z = sin(X) + cos(Y);\n",
    "\n",
    "nfig = nfig + 1;\n",
    "figure(nfig)\n",
    "surf(X, Y, Z)\n",
    "title('z = sin(x) + cos(y)')\n",
    "xlabel('x')\n",
    "ylabel('y')\n",
    "zlabel('z')"
   ]
  },
  {
   "cell_type": "markdown",
   "metadata": {},
   "source": [
    "## Les animations\n",
    "Pour conclure ce chapitre, voyons comment réaliser des animations de nos résultats. Une première façon consiste à utiliser la fonction `pause(n)`, qui permet d'arrêter l'exécution pendant `n` secondes. En alternant des appels à une fonction de représentation graphique et à `pause` avec une valeur de `n` raisonnable, nous arrivons à créer une animation, comme nous montrons dans l'exemple qui suit. Il est possible que vous ne voyez pas l'animation sur ce Jupyter Notebook mais si vous copiez-collez le bloc de code suivant dans votre fenêtre de commande ou script Matlab, vous devriez pouvoir la contempler sans problème. \n"
   ]
  },
  {
   "cell_type": "code",
   "execution_count": null,
   "metadata": {},
   "outputs": [],
   "source": [
    "close all\n",
    "nfig = 0;\n",
    "\n",
    "x = linspace(0, 2*pi, 101);\n",
    "omega = [linspace(1, 2, 11), linspace(2, 1, 11)];\n",
    "\n",
    "nfig = nfig + 1;\n",
    "figure(nfig)\n",
    "t = 0;\n",
    "while(t < 100)\n",
    "    plot(x, sin(omega(mod(t, 22) + 1) * x));\n",
    "    pause(0.2)\n",
    "    t = t + 1;\n",
    "end"
   ]
  },
  {
   "cell_type": "markdown",
   "metadata": {},
   "source": [
    "Nous pouvons également créer des animations à l'aide des fonctions `movie(M)` ou `animatedline`. Pour trouver des exemples d'utilisation, nous vous invitions à consulter la documentation correspondante. "
   ]
  }
 ],
 "metadata": {
  "kernelspec": {
   "display_name": "Octave",
   "language": "octave",
   "name": "octave"
  },
  "language_info": {
   "file_extension": ".m",
   "help_links": [
    {
     "text": "GNU Octave",
     "url": "https://www.gnu.org/software/octave/support.html"
    },
    {
     "text": "Octave Kernel",
     "url": "https://github.com/Calysto/octave_kernel"
    },
    {
     "text": "MetaKernel Magics",
     "url": "https://github.com/calysto/metakernel/blob/master/metakernel/magics/README.md"
    }
   ],
   "mimetype": "text/x-octave",
   "name": "octave",
   "version": "4.4.1"
  }
 },
 "nbformat": 4,
 "nbformat_minor": 2
}
