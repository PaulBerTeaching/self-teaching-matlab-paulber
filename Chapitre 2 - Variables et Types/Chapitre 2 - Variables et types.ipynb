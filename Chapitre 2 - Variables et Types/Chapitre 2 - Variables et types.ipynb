{
 "cells": [
  {
   "cell_type": "markdown",
   "metadata": {},
   "source": [
    "# Introduction :\n",
    "\n",
    "Comme tout langage de programmation matlab permet de définir des données variables. Une variable est désignée par un identificateur qui est formé d’une combinaison de lettres et de chiffres. Le premier caractère de l’identificateur doit nécessairement être une lettre. Attention, matlab différencie majuscules et minuscules ! Ainsi X33 et x33 désignent deux variables distinctes. Les variables sont définies au fur et à mesure que l’on donne leurs noms (identificateur) et leurs valeurs numériques ou leurs expressions mathématiques. L’utilisation de variables avec matlab ne nécessite pas de déclaration de type ou de dimension. Le type et la dimension d’une variable sont déterminés de manière automatique à partir de l’expression mathématique ou de la valeur affectée à la variable. Une variable peut être de classes numérique, chaîne de caractères, logique , structure, table, tableaux de cellules et function handle.\n",
    "\n",
    "#  Classes Numérique :\n",
    "\n",
    "La classe numérique : permet de construire les réels et les entiers avec un certain niveau de précision.\n",
    "\n",
    "- Les entiers (8 classes) : int* et uint*\n",
    "- Les réels (2 classes) : single (32-bits), double (64-bits)\n",
    "\n",
    "##  Les Entiers :\n",
    "\n",
    "MATLAB possède quatre classes entières signées et quatre classes entières non signées. Les types signés vous permettent de travailler aussi bien avec des nombres entiers négatifs que positifs, mais ne peuvent pas représenter une gamme de nombres aussi large que les types non signés car un bit est utilisé pour désigner un signe positif ou négatif pour le nombre. Les types non signés vous donnent un plus grand choix de nombres, mais ces nombres ne peuvent être que zéro ou positifs.\n",
    "MATLAB prend en charge le stockage de données entières sur 1, 2, 4 et 8 octets. Vous pouvez économiser de la mémoire et du temps d'exécution pour vos programmes si vous utilisez le plus petit type d'entier qui contient vos données. Par exemple, vous n'avez pas besoin d'un entier de 32 bits pour stocker la valeur 100.\n",
    "Voici les huit classes entières, la plage de valeurs que vous pouvez stocker avec chaque type, et la fonction de conversion MATLAB requise pour créer ce type :\n"
   ]
  },
  {
   "attachments": {
    "image.png": {
     "image/png": "[encoded data removed]"
    }
   },
   "cell_type": "markdown",
   "metadata": {},
   "source": [
    "![image.png](attachment:image.png)\n",
    "\n",
    "###Valeurs les plus grandes et les plus petites pour les classes entières : (soulignier)\n",
    "\n",
    "Pour chaque type de données entier, il y a un plus grand et plus petit nombre que vous pouvez représenter avec ce type. Le tableau sous Entiers indique les valeurs les plus grandes et les plus petites pour chaque type de données entières dans la colonne \"Plage de valeurs\".\n",
    "Vous pouvez également obtenir ces valeurs avec les fonctions intmax et intmin : "
   ]
  },
  {
   "cell_type": "code",
   "execution_count": null,
   "metadata": {},
   "outputs": [],
   "source": [
    "intmax('int8')"
   ]
  },
  {
   "cell_type": "code",
   "execution_count": null,
   "metadata": {},
   "outputs": [],
   "source": [
    "intmin('int8')"
   ]
  },
  {
   "cell_type": "markdown",
   "metadata": {},
   "source": [
    "Si vous convertissez un nombre  dont la valeur est  supérieure à la valeur maximale d’un  type de données entier, MATLAB lui attribue la valeur maximale de ce type. De même, si vous convertissez un nombre inférieur à la valeur minimale du type de données entier, MATLAB lui attribue la valeur minimale. Par exemple :"
   ]
  },
  {
   "cell_type": "code",
   "execution_count": null,
   "metadata": {},
   "outputs": [],
   "source": [
    "x = int8(300)"
   ]
  },
  {
   "cell_type": "code",
   "execution_count": null,
   "metadata": {},
   "outputs": [],
   "source": [
    "x = int8(-300)"
   ]
  },
  {
   "cell_type": "markdown",
   "metadata": {},
   "source": [
    "Aussi, lorsque le résultat d'une opération arithmétique impliquant des entiers dépasse la valeur maximale (ou minimale) du type de données, MATLAB la fixe à la valeur maximale (ou minimale) :"
   ]
  },
  {
   "cell_type": "code",
   "execution_count": null,
   "metadata": {},
   "outputs": [],
   "source": [
    "x = int8(100) * 3"
   ]
  },
  {
   "cell_type": "code",
   "execution_count": null,
   "metadata": {},
   "outputs": [],
   "source": [
    "x = int8(-100) * 3"
   ]
  },
  {
   "attachments": {
    "image.png": {
     "image/png": "[encoded data removed]"
    }
   },
   "cell_type": "markdown",
   "metadata": {},
   "source": [
    "## Les Réels : \n",
    "MATLAB représente les nombres réels en format double-précision ou simple-précision. La valeur par défaut est  la double précision, mais vous pouvez faire n'importe quel nombre avec une simple fonction de conversion.\n",
    "### Double précision : \n",
    "Toute valeur stockée en double nécessite 64 bits, formatés comme indiqué dans le tableau ci-dessous :\n",
    "\n",
    "![image.png](attachment:image.png)\n",
    "\n",
    "L’intervalle pour la double précision est de  1,79769e+308 à -2,22507e-308 et de  2,22507e-308 à 1,79769e+308\n",
    "### Simple précision : \n",
    "Toute valeur stockée en tant que valeur unique nécessite 32 bits, formatés comme indiqué dans le tableau ci-dessous :\n",
    "\n",
    "![image.png](attachment:image.png)\n",
    "\n",
    "Parce que MATLAB stocke les nombres de type simple en utilisant 32 bits, ils nécessitent moins de mémoire que les nombres de type double, qui utilisent 64 bits. Cependant, parce qu'ils sont stockés avec moins de bits, les nombres de type simple sont représentés avec moins de précision que les nombres de type double.\n",
    "\n",
    "L’intervalle pour la simple précision est de  -3.40282e+38 to -1.17549e-38 et de 1.17549e-38 à  3.40282e+38\n",
    "\n",
    "## Type chaîne de caractères\n",
    "Une chaîne de caractères est un tableau de caractères. Une donnée de type chaîne de caractères (char) est représentée sous la forme d’une suite de caractères encadrée d’apostrophes simples (’).\n",
    " Une variable de type chaîne de caractères étant interprétée comme un tableau de caractères, il est possible de manipuler chaque lettre de la chaîne en faisant référence à sa position dans la chaîne. \n",
    "La concaténation de chaînes de caractères s’effectue selon les règles de manipulation des tableaux. Si on met un point-virgule  à la fin d'une commande, celle-ci ne sera pas affichée dans la fenêtre de commande.\n",
    "L’exemple suivant présente différentes manipulations d’une chaîne de caractère :\n",
    "\n",
    "\n"
   ]
  },
  {
   "cell_type": "code",
   "execution_count": null,
   "metadata": {},
   "outputs": [],
   "source": [
    "ch1 = 'bon'\n",
    "ch2 = 'jour'\n",
    "ch = [ch1,ch2]\n",
    "ch(1), ch(7), ch(1:3)\n",
    "ch3 = 'soi';\n",
    "ch = [ch(1:3), ch3, ch(7)]"
   ]
  },
  {
   "cell_type": "markdown",
   "metadata": {},
   "source": [
    "Si une chaîne de caractères doit contenir le caractère apostrophe (’) celui-ci doit être doublé dans la chaîne (ainsi pour affecter le caractère apostrophe (’) à une variable on devra écrire ””, soit 4 apostrophes)."
   ]
  },
  {
   "cell_type": "code",
   "execution_count": null,
   "metadata": {},
   "outputs": [],
   "source": [
    "rep = 'aujourd'hui'"
   ]
  },
  {
   "cell_type": "code",
   "execution_count": null,
   "metadata": {},
   "outputs": [],
   "source": [
    "rep = 'aujourd''hui'"
   ]
  },
  {
   "cell_type": "code",
   "execution_count": null,
   "metadata": {},
   "outputs": [],
   "source": [
    "apos = ''''"
   ]
  },
  {
   "cell_type": "markdown",
   "metadata": {},
   "source": [
    "La chaîne de caractères vide s’obtient par 2 apostrophes ”. La commande isempty permet de tester si une variables de type chaîne de caractères est vide ou non. La commande strcmp permet de tester si deux chaines de caractères sont égales ou non.\n",
    "\n",
    "## Type logique\n",
    "\n",
    "Le type logique (logical) possède 2 formes : 0 pour faux et 1 pour vrai. Un résultat de type logique est retourné par certaines fonctions ou dans le cas de certains tests. \n",
    "Dans l’exemple qui suit on considère une variable x contenant la valeur 123 et une variable y définie par l’expression mathématique y = exp(log(x)). On teste si les variables x et y contiennent les mêmes valeurs.\n",
    "La variable tst est une variable de type logique qui vaut 1 (vrai) si les valeurs sont égales et 0 (faux) sinon. Suivant la valeur de tst, on affiche la phrase x est egal a y ou la phrase x est different de y. \n",
    "Dans l’exemple proposé, compte-tenu des erreurs d’arrondis lors du calcul de exp(log(123)), la valeur de la variable y ne vaut pas exactement 123. On pourra également considérer le cas où x = 12.\n"
   ]
  },
  {
   "cell_type": "code",
   "execution_count": null,
   "metadata": {},
   "outputs": [],
   "source": [
    "x = 123\n",
    "y = exp(log(x))\n",
    "tst = ( x==y )\n",
    "if tst, disp('x est egal a y '), else disp('x est different de y '), end\n",
    "x, y, tst\n",
    "format, clear"
   ]
  },
  {
   "cell_type": "markdown",
   "metadata": {},
   "source": [
    "## Structure :\n",
    "\n",
    "Une structure est un type de donnée qui est un regroupement de données de types quelconques, chaque donnée de la structure ou champ ayant un identificateur propre. Une structure est créée en indiquant la liste des champs avec pour chacun l’identificateur (sous forme d’une chaîne de caractères) suivie de sa valeur. \n",
    "Exemple : une structure représentant une date sous la forme du jour, du numéro de jour, du mois et de l’année : \n"
   ]
  },
  {
   "cell_type": "code",
   "execution_count": null,
   "metadata": {},
   "outputs": [],
   "source": [
    "date1 = struct('jour', 'Lundi', ...\n",
    "                          'numj', 27, ... \n",
    "                          'mois', 'Septembre', ...\n",
    "                          'annee', 2004) \n",
    "\n",
    "% accès aux différents champs de la structure \n",
    "date1.jour \n",
    "date1.numj \n",
    "date1.mois \n",
    "date1.annee\n",
    "% copie d’une structure \n",
    "date2 = date1 \n",
    "% modification d’un champ \n",
    "date2.jour = 'Mardi' \n",
    "date2.annee = 2005\n"
   ]
  },
  {
   "cell_type": "markdown",
   "metadata": {},
   "source": [
    "## Table :\n",
    "\n",
    "Les tableaux sont utilisés pour collecter des données et des métadonnées hétérogènes dans un conteneur unique. Ils conviennent au stockage de données orientées colonnes ou tabulaires qui sont souvent stockées sous forme de colonnes dans un fichier texte ou dans un tableur. Ils peuvent accommoder des variables de différents types, tailles, unités, etc\n",
    "Les tableaux peuvent être indexés à l'aide de parenthèses, un peu comme les tableaux numériques ordinaires. Mais en plus des index numériques et logiques, vous pouvez utiliser les noms de variables et de lignes de la table.  Vous pouvez accéder aux variables dans une table de la même manière que les champs d'une structure, en utilisant le point  en souscrivant. Vous pouvez accéder au contenu d'une ou plusieurs variables en utilisant l'indice d'accolade.\n",
    "Exemples: ( Mathwork)\n"
   ]
  },
  {
   "cell_type": "code",
   "execution_count": 2,
   "metadata": {},
   "outputs": [
    {
     "name": "stdout",
     "output_type": "stream",
     "text": [
      "error: 'LastName' undefined near line 2 column 19\n",
      "error: 'patients' undefined near line 2 column 20\n",
      "error: 'patients' undefined near line 2 column 27\n",
      "error: patients<cell>: subscripts must be either integers 1 to (2^63)-1 or logicals\n",
      "error: 'patients' undefined near line 2 column 19\n",
      "error: 'patients' undefined near line 2 column 32\n",
      "patients =\n",
      "\n",
      "  scalar structure containing the fields:\n",
      "\n",
      "    LastName = [](0x0)\n",
      "\n",
      "error: patients(<cell>,_): subscripts must be either integers 1 to (2^63)-1 or logicals\n",
      "warning: the 'summary' function is not yet implemented in Octave\n",
      "\n",
      "Please read <https://www.octave.org/missing.html> to learn how you can\n",
      "contribute missing functionality.\n",
      "error: 'summary' undefined near line 1 column 1\n",
      "error: structure has no member 'Weight'\n",
      "error: invalid dot name structure assignment because the structure array is empty.  Specify a subscript on the structure array to resolve.\n",
      "error: invalid dot name structure assignment because the structure array is empty.  Specify a subscript on the structure array to resolve.\n",
      "error: sortrows: C must be a numeric vector\n",
      "error: called from\n",
      "    sortrows at line 59 column 7\n",
      "warning: the 'readtable' function is not yet implemented in Octave\n",
      "\n",
      "Please read <https://www.octave.org/missing.html> to learn how you can\n",
      "contribute missing functionality.\n",
      "error: 'readtable' undefined near line 2 column 13\n",
      "warning: the 'readtable' function is not yet implemented in Octave\n",
      "\n",
      "Please read <https://www.octave.org/missing.html> to learn how you can\n",
      "contribute missing functionality.\n",
      "error: 'readtable' undefined near line 1 column 13\n"
     ]
    }
   ],
   "source": [
    "% Créez une table à partir de variables d'espace de travail individuelles.\n",
    "patients = table( LastName,Gender,Age,Height,Weight,Smoker,Systolic,Diastolic )\n",
    "% Sélectionnez les rangées pour les patients qui fument et un sous-ensemble de variables.\n",
    "smokers = patients(patients.Smoker == true, {'LastName' 'Gender' 'Systolic' 'Diastolic'})    \n",
    "% Convertir les deux variables de tension artérielle en une seule variable.\n",
    "patients.BloodPressure = [patients.Systolic patients.Diastolic];\n",
    "patients(:,{'Systolic' 'Diastolic'}) = []\n",
    "% Choisir deux patients spécifiques par la variable Nom de famille. \n",
    "patients(ismember(patients.LastName,{'Smith' 'Jones'}), :)\n",
    "% Convert the LastName variable into row names.\n",
    "patients.Properties.RowNames = patients.LastName;\n",
    "patients.LastName = [] \n",
    "% Utilisez les noms des rangées pour choisir deux patients spécifiques.\n",
    "patients({'Smith' 'Jones'},:) \n",
    "% Ajouter des métadonnées à la table.\n",
    "patients.Properties.Description = 'Simulated patient data';\n",
    "patients.Properties.VariableUnits =  {''  'Yrs'  'In'  'Lbs'  ''  'mm Hg'}; \n",
    "patients.Properties.VariableDescriptions{6} = 'Systolic/Diastolic';\n",
    "summary(patients) \n",
    "% Créer une nouvelle variable dans la table à partir des variables existantes. \n",
    "patients.BMI = (patients.Weight * 0.453592) ./ (patients.Height * 0.0254).^2    \n",
    "patients.Properties.VariableUnits{'BMI'} =  'kg/m^2';  \n",
    "patients.Properties.VariableDescriptions{'BMI'} = 'Body Mass Index'; \n",
    "% Trier la table en fonction de la nouvelle variable.\n",
    "sortrows(patients,'BMI') \n",
    "% Créer des tableaux à partir de fichiers texte et de tableurs\n",
    "patients2 = readtable('patients.dat','ReadRowNames',true)\n",
    "patients3 = readtable('patients.xls','ReadRowNames',true)\n",
    "\n"
   ]
  },
  {
   "cell_type": "markdown",
   "metadata": {},
   "source": []
  },
  {
   "cell_type": "markdown",
   "metadata": {},
   "source": [
    "## Tableaux de Cellules :  (Problème de mise en forme)\n",
    "(Nicolas Szafran : https://ljk.imag.fr/membres/Nicolas.Szafran/ENSEIGNEMENT/MATLAB_SCILAB/INTRO_MATLAB/intro.pdf)\n",
    "\n",
    "Les tableaux vus jusqu’à présents sont des tableaux ”simples”, chaque élément du tableau étant une valeur scalaire (réel ou complexe). Il est possible de créer des tableaux tels que chaque ´élément (ou cellule) peut contenir n’importe quel type de données (scalaire, tableau, structure, ...) : le tableau de cellules (cell array). L’accès à chaque élément d’un cell array se fait en indiquant les indices entre accolades {} et non pas entre parenthèses (). Exemple : Triangle de Pascal - il s’agit d’un tableau C(n,p) des coefficients du binôme\n",
    "\n",
    "C(np)=C_n^p=  n!/(p!(n-p)! )  pour 0≤p≤n\n",
    "Où la première ligne contient un ´élément (tableau à 1 élément), la deuxième ligne contient deux ´éléments (tableau à 2 élément), ... , la n-i`eme ligne contient n éléments. \n",
    " 1\n",
    " 1 1\n",
    " 1 2 1\n",
    " 1 3 3 1\n",
    " 1 4 6 4 1\n",
    " .... \n",
    "avec : C(1,1) = 1\n",
    "           C(k,1) = C(k,k) = 1\n",
    "           C(k,l) = C(k-1,l-1)+C(k-1,l)  pour 1 compris entre 2 et k-1\n",
    "On peut par exemple construire le triangle de Pascal avec n lignes à l’aide d’un cell array avec n éléments, l’élément k du cell array représentant la ligne k du triangle de Pascal, et est un tableau de k valeurs : \n"
   ]
  },
  {
   "cell_type": "code",
   "execution_count": 1,
   "metadata": {},
   "outputs": [
    {
     "name": "stdout",
     "output_type": "stream",
     "text": [
      "    1\n",
      "    1    1\n",
      "    1    2    1\n",
      "    1    3    3    1\n",
      "    1    4    6    4    1\n",
      "    1    5   10   10    5    1\n",
      "    1    6   15   20   15    6    1\n",
      "    1    7   21   35   35   21    7    1\n",
      "    1    8   28   56   70   56   28    8    1\n",
      "    1    9   36   84  126  126   84   36    9    1\n",
      "parse error:\n",
      "\n",
      "  syntax error\n",
      "\n",
      ">>> fprintf(1, ’%s %s\\n’, Prenom{i}, Nom{i}); \n",
      "               ^\n",
      "\n",
      "parse error:\n",
      "\n",
      "  syntax error\n",
      "\n",
      ">>> end\n",
      "      ^\n",
      "\n"
     ]
    }
   ],
   "source": [
    "n = 10; \n",
    "C = cell(n,1);\n",
    "C{1} = [1];  % la première ligne \n",
    "C{2} = [1 1];  % la deuxième ligne\n",
    " % les lignes suivantes en utilisant la récurrence\n",
    "for k=3:n \n",
    "     C{k} = [1 C{k-1}(1:k-2)+C{k-1}(2:k-1) 1];\n",
    "                 % \\____________ ___________/ % \n",
    "                 %             \\/             % \n",
    "                 %      = C{k}(2:k-1)         % \n",
    "end \n",
    "% affichage de C \n",
    "for k=1:n\n",
    "       fprintf(1, '%5d',C{k}); fprintf(1, '\\n');  % affichage de la ligne k \n",
    "end\n",
    "\n",
    "%Un cell array peut servir pour stocker un tableau de chaîne de caractères.\n",
    "%Exemple : \n",
    "Nom = cell(4,1); \n",
    "Nom{1} = 'Dupond'; \n",
    "Nom{2} = 'Durand'; \n",
    "Nom{3} = 'Martin';\n",
    "Nom{4} = 'Chevalier'; \n",
    "Prenom = cell(4,1);\n",
    "Prenom{1} = 'Pierre'; \n",
    "Prenom{2} = 'Catherine';\n",
    "Prenom{3} = 'Jean-Louis'; \n",
    "Prenom{4} = 'Anne'; \n",
    "% affichage des différentes identités \n",
    "for i=1:length(Nom) \n",
    "fprintf(1, ’%s %s\\n’, Prenom{i}, Nom{i}); \n",
    "end\n"
   ]
  },
  {
   "attachments": {
    "image.png": {
     "image/png": "[encoded data removed]"
    }
   },
   "cell_type": "markdown",
   "metadata": {},
   "source": [
    "## Variables d’environnement :\n",
    "\n",
    "Les variables déclarées dans Matlab restent en mémoire jusqu'à ce que vous demandiez qu'elles soient effacées ou que vous fermiez le logiciel. Elles sont visibles, consultables et modifiables dans la fenêtre Workspace en haut à droite de la fenêtre. Nous pouvons aussi le faire à partir de ligne de commande :\n",
    "\n",
    "![image.png](attachment:image.png)\n",
    "\n",
    "## Function hundle : \n",
    "\n",
    "Vous pouvez créer des poignées de fonction pour les fonctions nommées et anonymes. Vous pouvez stocker plusieurs poignées de fonctions dans un tableau, les sauvegarder et les charger, comme n'importe quelle autre variable.\n",
    "Pour créer une fonction, précéder le nom de la fonction d'un signe @. Par exemple, si vous avez une fonction appelée myfunction, créez une hundle nommée f comme suit :  \n",
    "f = @myfunction;\n",
    "Vous appelez une fonction à l'aide d'un handle de la même manière que vous appelez la fonction directement. Par exemple, supposons que vous ayez une fonction nommée computeSquare, définie comme :\n"
   ]
  },
  {
   "cell_type": "code",
   "execution_count": null,
   "metadata": {},
   "outputs": [],
   "source": [
    "function y = computeSquare(x)\n",
    "y = x.^2;\n",
    "end\n"
   ]
  },
  {
   "cell_type": "markdown",
   "metadata": {},
   "source": [
    "Créez un handle et appelez la fonction pour calculer le carré de quatre."
   ]
  },
  {
   "cell_type": "code",
   "execution_count": null,
   "metadata": {},
   "outputs": [],
   "source": [
    "f = @computeSquare;\n",
    "a = 4;\n",
    "b = f(a)"
   ]
  },
  {
   "cell_type": "markdown",
   "metadata": {},
   "source": [
    "Si la fonction ne nécessite aucune entrée, vous pouvez appeler la fonction avec des parenthèses vides, telles que"
   ]
  },
  {
   "cell_type": "code",
   "execution_count": null,
   "metadata": {},
   "outputs": [],
   "source": [
    "h = @ones;\n",
    "a = h()"
   ]
  },
  {
   "cell_type": "markdown",
   "metadata": {},
   "source": [
    "Sans les parenthèses, l'affectation crée une autre poignée de fonction."
   ]
  },
  {
   "cell_type": "code",
   "execution_count": null,
   "metadata": {},
   "outputs": [],
   "source": [
    "a = h"
   ]
  }
 ],
 "metadata": {
  "kernelspec": {
   "display_name": "Octave",
   "language": "octave",
   "name": "octave"
  },
  "language_info": {
   "file_extension": ".m",
   "help_links": [
    {
     "text": "GNU Octave",
     "url": "https://www.gnu.org/software/octave/support.html"
    },
    {
     "text": "Octave Kernel",
     "url": "https://github.com/Calysto/octave_kernel"
    },
    {
     "text": "MetaKernel Magics",
     "url": "https://github.com/calysto/metakernel/blob/master/metakernel/magics/README.md"
    }
   ],
   "mimetype": "text/x-octave",
   "name": "octave",
   "version": "4.4.1"
  }
 },
 "nbformat": 4,
 "nbformat_minor": 2
}
