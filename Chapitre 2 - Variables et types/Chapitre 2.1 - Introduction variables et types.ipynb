{
 "cells": [
  {
   "cell_type": "markdown",
   "metadata": {},
   "source": [
    "# Introduction au chapitre 2 - Variables et types\n",
    "\n",
    "Matlab est un langage de programmation qui présente un certain nombre de type prédéfini qui facilite la manipulation des mathématiques par l'informatique. Il est donc important de faire un tour d'horizon de l'ensemble de ces types ou classes qui vous faciliteront la tâche lors des TP. Nous vous proposons, dans ce notebook, de voir la gestion des variables en Matlab ainsi que quelques éléments de terminologie. Nous développerons dans les autres notebooks de ce dossier chacune des classes à votre disposition.\n",
    "\n",
    "# Variables :\n",
    "\n",
    "Comme tout langage de programmation, Matlab permet de définir des variables. Une variable est désignée par un nom aussi appelé 'identificateur' qui est formé d’une combinaison de lettres et de chiffres. Le premier caractère de l’identificateur doit nécessairement être une lettre. Exécutez la prochaine cellule pour créer votre première variable."
   ]
  },
  {
   "cell_type": "code",
   "execution_count": null,
   "metadata": {},
   "outputs": [],
   "source": [
    "maPremiereVariable = 1"
   ]
  },
  {
   "cell_type": "markdown",
   "metadata": {},
   "source": [
    "Ici, l'indicateur est 'maPremiereVariable' et sa valeur est 1. Il existe des conventions et de bonnes pratiques quant au nommage des variables. Dans le cas des cours de Compléments Mathématiques, nous vous demandons juste de choisir des noms de variables significatifs.\n",
    "Sachez cependant que Matlab est sensible à la casse, c'est-à-dire qu'il différencie majuscules et minuscules ! Ainsi 'X33' et 'x33' désignent deux variables distinctes. \n",
    "Les variables sont définies au fur et à mesure que l’on donne leurs noms et leurs valeurs numériques ou leurs expressions mathématiques. L’utilisation de variables avec Matlab ne nécessite pas de déclaration de type ou de dimension contrairement à Java que vous avez sans doute vu au premier semestre. \n",
    "\n",
    "Vous pouvez remarquer qu'après l'exécution de la cellule, Matlab vous affiche le résultat de l'action que vous venez d'effectuer. Cet affichage peut s'avérer utile ou gênant en fonction des cas, pour faire disparaître l'affichage il vous suffit de rajouter un point virgule (**;**) à la fin de votre ligne de commande : "
   ]
  },
  {
   "cell_type": "code",
   "execution_count": null,
   "metadata": {},
   "outputs": [],
   "source": [
    "Hey = 'Cette ligne s affiche'\n",
    "Ho = 'Mais pas celle ci';"
   ]
  },
  {
   "cell_type": "markdown",
   "metadata": {},
   "source": [
    "Le type et la dimension d’une variable sont déterminés de manière automatique à partir de l’expression mathématique ou de la valeur affectée à la variable. Si on met un point-virgule  à la fin d'une commande, celle-ci ne sera pas affichée dans la fenêtre de commande.\n",
    "\n",
    "Une variable Matlab peut être de classe numérique, caractère, logique , structure, table, cellule et pointeur de fonction (*function handle*). Matlab signifiant *Matrix laboratory*, cela signifie que chacune (ou presque) des classes peut être organisée sous forme de matrice. Nous utiliserons également les termes de scalaire, de vecteurs colonnes et de vecteur lignes pour les matrices de taille respective $1 \\times 1$, $n \\times 1$ et $1 \\times n$. La figure ci-dessous résume globalement ce que vous devez retenir, nous développerons chacun des types de manière plus détaillée par la suite.\n",
    "\n",
    "<img src=\"attachment:matlabclasses.png\" alt=\"matlabclasses.png\" style=\"width: 500px;\"/>\n",
    "\n",
    "À tout moment, vous pouvez connaître le type d'une variable en saisissant la commande *class(nomdevariable)*.\n",
    "\n",
    "## Variables d’environnement :\n",
    "\n",
    "Les variables déclarées dans Matlab restent en mémoire jusqu'à ce que vous demandiez qu'elles soient effacées ou que vous fermiez le logiciel. Elles sont visibles, consultables et modifiables dans la fenêtre Workspace en haut à droite de la fenêtre. Nous pouvons aussi le faire à partir de ligne de commande :\n",
    "\n",
    "| | |\n",
    "|------|------|\n",
    "|who | Donne la liste des variables de l'espace de travail\n",
    "|whos | Donne la liste des variables avec leurs caractéristiques\n",
    "|clear *var1,..., var_n* | Efface les variables *var1,..., var_n* de l'espace de travail\n",
    "| clear | Efface toutes les variables de l'espace de travail\n",
    "| exist | Vérifie l existence d'une variable, d'un dossier, d'un répertoire\n",
    "\n",
    "Pour toutes questions sur l'ensemble des cours du chapitre 2, vous pouvez me contacter par mail à <amal.ben-abid@univ-rennes1.fr> ou consulter le chapitre 0.3.\n"
   ]
  }
 ],
 "metadata": {
  "kernelspec": {
   "display_name": "Octave",
   "language": "octave",
   "name": "octave"
  },
  "language_info": {
   "file_extension": ".m",
   "help_links": [
    {
     "text": "GNU Octave",
     "url": "https://www.gnu.org/software/octave/support.html"
    },
    {
     "text": "Octave Kernel",
     "url": "https://github.com/Calysto/octave_kernel"
    },
    {
     "text": "MetaKernel Magics",
     "url": "https://github.com/calysto/metakernel/blob/master/metakernel/magics/README.md"
    }
   ],
   "mimetype": "text/x-octave",
   "name": "octave",
   "version": "4.4.1"
  }
 },
 "nbformat": 4,
 "nbformat_minor": 2
}
