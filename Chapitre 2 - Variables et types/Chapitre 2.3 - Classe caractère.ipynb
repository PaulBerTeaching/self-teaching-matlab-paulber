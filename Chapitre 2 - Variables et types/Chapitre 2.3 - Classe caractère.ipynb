{
 "cells": [
  {
   "cell_type": "markdown",
   "metadata": {},
   "source": [
    "## Classe caractère\n",
    "\n",
    "Une donnée de type caractère (char) est représentée sous la forme d’un élément encadré d’apostrophes simples (’). \n",
    "\n",
    "Une chaîne de caractères, de son nom anglophone *string*, est un vecteur ligne de caractères (soit une matrice de dimension $1 \\times n$). Elle se crée simplement en ajoutant plusieurs caractères encadrés par des apostrophes.\n",
    "\n",
    "<u>Exemple :</u>"
   ]
  },
  {
   "cell_type": "code",
   "execution_count": 1,
   "metadata": {},
   "outputs": [
    {
     "name": "stdout",
     "output_type": "stream",
     "text": [
      "a = a\n",
      "chaine = 123\n"
     ]
    }
   ],
   "source": [
    "% creation de la variable a contenant le caractère 'a'\n",
    "a = 'a'\n",
    "\n",
    "% creation de la chaine de caractère 123\n",
    "chaine = '123'"
   ]
  },
  {
   "cell_type": "markdown",
   "metadata": {},
   "source": [
    "La classe caractère fait référence à un entier dans le tableau ASCII. Ainsi chaque caractère peut se traduire par un entier si on utilise une fonction de conversion :"
   ]
  },
  {
   "cell_type": "code",
   "execution_count": 2,
   "metadata": {},
   "outputs": [
    {
     "name": "stdout",
     "output_type": "stream",
     "text": [
      "chaine = 25\n",
      "valeurEntiereChaine =\n",
      "\n",
      "   50   53\n",
      "\n"
     ]
    }
   ],
   "source": [
    "chaine = '25'\n",
    "\n",
    "% Conversion de notre chaine de caractère en flottant 32 bits\n",
    "valeurEntiereChaine = single(chaine)"
   ]
  },
  {
   "cell_type": "markdown",
   "metadata": {},
   "source": [
    "Comme vous pouvez le constater, le '2' correspond à l'entier 50 et le '5' à l'entier 53. Un autre constat est celui de se dire que le nombre 25 est différent de la chaîne de caractère '25'.\n",
    "\n",
    "Une variable contenant une chaîne de caractères étant interprétée comme un vecteur, il est possible de manipuler chaque lettre de la chaîne en utlisant un système d'indexage. La concaténation de chaînes de caractères s’effectue selon les règles de manipulation des matrices. Nous vous renvoyons au chapitre 3 pour plus de précision sur ces points.\n",
    "\n",
    "L’exemple suivant présente différentes manipulations d’une chaîne de caractère :"
   ]
  },
  {
   "cell_type": "code",
   "execution_count": 3,
   "metadata": {},
   "outputs": [
    {
     "name": "stdout",
     "output_type": "stream",
     "text": [
      "ch1 = bon\n",
      "ch2 = jour\n",
      "ch = bonjour\n",
      "ans = b\n",
      "ans = r\n",
      "ans = bon\n",
      "ch = bonsoir\n"
     ]
    }
   ],
   "source": [
    "% Création rapide de deux chaines de caractères\n",
    "ch1 = 'bon'\n",
    "ch2 = 'jour'\n",
    "\n",
    "% Concaténation de chaine de caractères\n",
    "ch = [ch1,ch2]\n",
    "\n",
    "% Affichage du premier caractère de la chaine\n",
    "ch(1)\n",
    "\n",
    "% Affichage du premier caractère de la chaine\n",
    "ch(7) \n",
    "\n",
    "% Affichage du premier au troisième caractère de la chaine (Chap. 3 pour la création rapide de vecteurs)\n",
    "ch(1:3)\n",
    "\n",
    "ch3 = 'soi';\n",
    "\n",
    "% Création du mot 'bonsoir' à l'aide des éléments 'bonjour' et 'soi'\n",
    "ch = [ch(1:3), ch3, ch(7)]"
   ]
  },
  {
   "cell_type": "markdown",
   "metadata": {},
   "source": [
    "Si une chaîne de caractères doit contenir le caractère apostrophe (’) celui-ci doit être doublé dans la chaîne (ainsi pour affecter le caractère apostrophe (’) à une variable on devra écrire ””, soit 4 apostrophes)."
   ]
  },
  {
   "cell_type": "code",
   "execution_count": 4,
   "metadata": {},
   "outputs": [
    {
     "name": "stdout",
     "output_type": "stream",
     "text": [
      "parse error:\n",
      "\n",
      "  syntax error\n",
      "\n",
      ">>> rep = 'aujourd'hui'\n",
      "                     ^\n",
      "\n"
     ]
    }
   ],
   "source": [
    "rep = 'aujourd'hui'"
   ]
  },
  {
   "cell_type": "code",
   "execution_count": 5,
   "metadata": {},
   "outputs": [
    {
     "name": "stdout",
     "output_type": "stream",
     "text": [
      "rep = aujourd'hui\n"
     ]
    }
   ],
   "source": [
    "rep = 'aujourd''hui'"
   ]
  },
  {
   "cell_type": "code",
   "execution_count": 6,
   "metadata": {},
   "outputs": [
    {
     "name": "stdout",
     "output_type": "stream",
     "text": [
      "apos = '\n"
     ]
    }
   ],
   "source": [
    "apos = ''''"
   ]
  },
  {
   "cell_type": "markdown",
   "metadata": {},
   "source": [
    "La chaîne de caractères vide s’obtient par 2 apostrophes ”.\n",
    "\n",
    "Il existe des caractères aux actions spéciales comme le retour à la ligne qui se présente comme le caractère '\\n', nous vous renvoyons à la [documentation Matlab](https://fr.mathworks.com/help/matlab/matlab_prog/matlab-operators-and-special-characters.html) pour plus d'information.\n",
    "\n",
    "D'autre commandes sont importantes à considérer :\n",
    "\n",
    "- isempty : permet de tester si une variables de type chaîne de caractères est vide ou non;\n",
    "- strcmp : permet de tester si deux chaines de caractères sont égales ou non;"
   ]
  },
  {
   "cell_type": "code",
   "execution_count": null,
   "metadata": {},
   "outputs": [],
   "source": []
  }
 ],
 "metadata": {
  "kernelspec": {
   "display_name": "Octave",
   "language": "octave",
   "name": "octave"
  },
  "language_info": {
   "file_extension": ".m",
   "help_links": [
    {
     "text": "GNU Octave",
     "url": "https://www.gnu.org/software/octave/support.html"
    },
    {
     "text": "Octave Kernel",
     "url": "https://github.com/Calysto/octave_kernel"
    },
    {
     "text": "MetaKernel Magics",
     "url": "https://github.com/calysto/metakernel/blob/master/metakernel/magics/README.md"
    }
   ],
   "mimetype": "text/x-octave",
   "name": "octave",
   "version": "4.4.1"
  }
 },
 "nbformat": 4,
 "nbformat_minor": 2
}
