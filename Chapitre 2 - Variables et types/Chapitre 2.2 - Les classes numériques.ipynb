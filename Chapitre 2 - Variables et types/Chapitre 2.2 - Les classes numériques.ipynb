{
 "cells": [
  {
   "cell_type": "markdown",
   "metadata": {},
   "source": [
    "#  Classes numériques :\n",
    "\n",
    "La classe numérique permet de construire les réels et les entiers avec un certain niveau de précision.\n",
    "\n",
    "- Les entiers (8 classes) : int\\* et uint\\*\n",
    "- Les flottants (2 classes) : single (32-bits), double (64-bits)\n",
    "\n",
    "##  Les Entiers :\n",
    "\n",
    "Matlab possède quatre classes entières signées et quatre classes entières non signées. Les types signés vous permettent de travailler aussi bien avec des nombres entiers négatifs que positifs, mais ne peuvent pas représenter une gamme de nombres aussi large que les types non signés car un bit est utilisé pour désigner un signe positif ou négatif pour le nombre. Les types non signés vous donnent un plus grand choix de nombres, mais ces nombres ne peuvent être que zéro ou positifs.\n",
    "Matlab prend en charge le stockage de données entières sur 1, 2, 4 et 8 octets. Vous pouvez économiser de la mémoire et du temps d'exécution pour vos programmes si vous utilisez le plus petit type d'entier qui contient vos données. Par exemple, vous n'avez pas besoin d'un entier de 32 bits pour stocker la valeur 100.\n",
    "Voici les huit classes entières, la plage de valeurs que vous pouvez stocker avec chaque type, et la fonction de conversion Matlab requise pour créer ce type :\n",
    "\n",
    "|       Classe        |   Plage de valeurs  | Fonction de conversion\n",
    "| :-----------------: | :-----------------: | :--------------------:\n",
    "| Entier 8-bits signé | De $-2^7$ à $2^7-1$ | int8\n",
    "| Entier 16-bits signé | De $-2^{15}$ à $2^{15}-1$ | int16\n",
    "| Entier 32-bits signé | De $-2^{31}$ à $2^{31}-1$ | int32\n",
    "| Entier 64-bits signé | De $-2^{63}$ à $2^{63}-1$ | int64\n",
    "| Entier 8-bits non signé | De 0 à $2^8-1$ | uint8\n",
    "| Entier 16-bits non signé | De 0 à $2^{16}-1$ | uint16\n",
    "| Entier 32-bits non signé | De 0 à $2^{32}-1$ | uint32\n",
    "| Entier 64-bits non signé | De 0 à $2^{64}-1$ | uint64\n",
    "\n",
    "\n",
    "<u>Valeurs les plus grandes et les plus petites pour les classes entières : </u>\n",
    "\n",
    "Pour chaque type de données entier, il y a un plus grand et plus petit nombre que vous pouvez représenter avec ce type. Le tableau indique les valeurs les plus grandes et les plus petites pour chaque type de données entières dans la colonne \"Plage de valeurs\".\n",
    "Vous pouvez également obtenir ces valeurs avec les fonctions intmax et intmin : "
   ]
  },
  {
   "cell_type": "code",
   "execution_count": 1,
   "metadata": {},
   "outputs": [
    {
     "name": "stdout",
     "output_type": "stream",
     "text": [
      "ans = 127\n"
     ]
    }
   ],
   "source": [
    "intmax('int8')"
   ]
  },
  {
   "cell_type": "code",
   "execution_count": 2,
   "metadata": {},
   "outputs": [
    {
     "name": "stdout",
     "output_type": "stream",
     "text": [
      "ans = -128\n"
     ]
    }
   ],
   "source": [
    "intmin('int8')"
   ]
  },
  {
   "cell_type": "markdown",
   "metadata": {},
   "source": [
    "Si vous convertissez un nombre dont la valeur est supérieure à la valeur maximale d’un type de données entier, Matlab lui attribue la valeur maximale de ce type. De même, si vous convertissez un nombre inférieur à la valeur minimale du type de données entier, Matlab lui attribue la valeur minimale. Par exemple :"
   ]
  },
  {
   "cell_type": "code",
   "execution_count": 3,
   "metadata": {},
   "outputs": [
    {
     "name": "stdout",
     "output_type": "stream",
     "text": [
      "x = 127\n"
     ]
    }
   ],
   "source": [
    "x = int8(300)"
   ]
  },
  {
   "cell_type": "code",
   "execution_count": 4,
   "metadata": {},
   "outputs": [
    {
     "name": "stdout",
     "output_type": "stream",
     "text": [
      "x = -128\n"
     ]
    }
   ],
   "source": [
    "x = int8(-300)"
   ]
  },
  {
   "cell_type": "markdown",
   "metadata": {},
   "source": [
    "Aussi, lorsque le résultat d'une opération arithmétique impliquant des entiers dépasse la valeur maximale (ou minimale) du type de données, MATLAB la fixe à la valeur maximale (ou minimale) :"
   ]
  },
  {
   "cell_type": "code",
   "execution_count": 5,
   "metadata": {},
   "outputs": [
    {
     "name": "stdout",
     "output_type": "stream",
     "text": [
      "x = 127\n"
     ]
    }
   ],
   "source": [
    "x = int8(100) * 3"
   ]
  },
  {
   "cell_type": "code",
   "execution_count": 6,
   "metadata": {},
   "outputs": [
    {
     "name": "stdout",
     "output_type": "stream",
     "text": [
      "x = -128\n"
     ]
    }
   ],
   "source": [
    "x = int8(-100) * 3"
   ]
  },
  {
   "cell_type": "markdown",
   "metadata": {},
   "source": [
    "## Les flottants : \n",
    "\n",
    "En cours de Complément Mathématique 1, nous avons vu que la famille des réels $\\mathbb{R}$ est infinie. Cette infinité ne peut pas être entièrement représentée en informatique, c'est pourquoi nous avons recours à un type intermédiaire : les flottants. Matlab représente donc les nombres réels en format flottant double-précision ou simple-précision. La valeur par défaut est la double précision, mais vous pouvez faire n'importe quel nombre avec une simple fonction de conversion.\n",
    "\n",
    "### Simple précision : \n",
    "\n",
    "Toute valeur stockée en tant que valeur unique nécessite 32 bits, formatés comme indiqué dans le tableau ci-dessous :\n",
    "\n",
    "|       Bits       |   Usage\n",
    "| :-----------------: | :-----------------:\n",
    "| 31 | Bit de signe (0 = + et 1 = -)\n",
    "| 30 à 23 | Bits d'exposants (binaire jusqu'à 127)\n",
    "| 22 à 0 | bits de mantisse (1.f)\n",
    "\n",
    "L’intervalle pour la simple précision est de  -3.40282e+38 à -1.17549e-38 et de 1.17549e-38 à 3.40282e+38 et la fonction de conversion est *single*.\n",
    "\n",
    "\n",
    "### Double précision : \n",
    "\n",
    "Toute valeur stockée en double nécessite 64 bits, formatés comme indiqué dans le tableau ci-dessous :\n",
    "\n",
    "|       Bits       |   Usage\n",
    "| :-----------------: | :-----------------:\n",
    "| 63 | Bit de signe (0 = + et 1 = -)\n",
    "| 62 à 52 | Bits d'exposants (binaire jusqu'à 1023)\n",
    "| 51 à 0 | bits de mantisse (1.f)\n",
    "\n",
    "\n",
    "L’intervalle pour la double précision est de  1.79769e+308 à -2.22507e-308 et de  2.22507e-308 à 1.79769e+308 et la fonction de conversion est *double*.\n",
    "\n",
    "**<u>NB :</u>** Parce que Matlab stocke les nombres de type simple en utilisant 32 bits, ils nécessitent moins de mémoire que les nombres de type double, qui utilisent 64 bits. Cependant, parce qu'ils sont stockés avec moins de bits, les nombres de type simple sont représentés avec moins de précision que les nombres de type double.\n",
    "\n",
    "### -Inf et Inf \n",
    "\n",
    "Dans la définition des flottants, nous incluons aussi deux éléments : -Inf et Inf soit moins l'infini et l'infini. Ainsi, lorsque l'on dépasse la capacité des flottants, Matlab vous retourne -Inf ou Inf comme vous pouvez le constater ci-dessous :\n"
   ]
  },
  {
   "cell_type": "code",
   "execution_count": 8,
   "metadata": {},
   "outputs": [
    {
     "name": "stdout",
     "output_type": "stream",
     "text": [
      "exempleInfini =  Inf\n"
     ]
    }
   ],
   "source": [
    "exempleInfini = 1.79771e+308"
   ]
  },
  {
   "cell_type": "markdown",
   "metadata": {},
   "source": [
    "Pour plus d'informations sur les flottants, vous pouvez consulter les références **[1-2]** ci-dessous. \n",
    "\n",
    "# Bibliographie :\n",
    "\n",
    "**[1]** Michael Overton - *Numerical Computing with IEEE Floating Point Arithmetic* - http://sistemas.fciencias.unam.mx/~gcontreras/joomla15/tmp/Numerical_Computing_with_IEEE_Floating_Point_Arithmetic.pdf\n",
    "\n",
    "**[2]** Jean-Michel Muller - *Handbook of Floating-Point Arithmetic* - https://www.springer.com/us/book/9780817647056 (Accessible via ENT --> Supernova)"
   ]
  },
  {
   "cell_type": "code",
   "execution_count": null,
   "metadata": {},
   "outputs": [],
   "source": []
  }
 ],
 "metadata": {
  "kernelspec": {
   "display_name": "Octave",
   "language": "octave",
   "name": "octave"
  },
  "language_info": {
   "file_extension": ".m",
   "help_links": [
    {
     "text": "GNU Octave",
     "url": "https://www.gnu.org/software/octave/support.html"
    },
    {
     "text": "Octave Kernel",
     "url": "https://github.com/Calysto/octave_kernel"
    },
    {
     "text": "MetaKernel Magics",
     "url": "https://github.com/calysto/metakernel/blob/master/metakernel/magics/README.md"
    }
   ],
   "mimetype": "text/x-octave",
   "name": "octave",
   "version": "4.4.1"
  }
 },
 "nbformat": 4,
 "nbformat_minor": 2
}
