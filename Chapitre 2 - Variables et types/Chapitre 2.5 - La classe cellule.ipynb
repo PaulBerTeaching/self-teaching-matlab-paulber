{
 "cells": [
  {
   "cell_type": "markdown",
   "metadata": {},
   "source": [
    "## Classe cellule ( Exemple issu de [1] ) : \n",
    "\n",
    "Les matrices vues jusqu’à présents sont des matrices ”simples”, chaque élément du tableau étant une valeur scalaire (réel ou complexe). Il est possible de créer des tableaux tels que chaque élément (ou cellule) peut contenir n’importe quel type de données (scalaire, tableau, structure, ...) : le tableau de cellules (cell array). L’accès à chaque élément d’un cell array se fait en indiquant les indices entre accolades {} et non pas entre parenthèses (). \n",
    "\n",
    "<u> Exemple :</u> Triangle de Pascal - il s’agit d’un tableau C(n,p) des coefficients du binôme\n",
    "\n",
    "$C(n,p)=C_n^p=  \\frac{n!}{(p!(n-p)! )}$  pour $0 \\leq p \\leq n$\n",
    "\n",
    "Où la première ligne contient un  élément (tableau à 1 élément), la deuxième ligne contient deux éléments (tableau à 2 élément), ... , la n$^{ième}$ ligne contient n éléments. \n",
    " 1\n",
    " 1 1\n",
    " 1 2 1\n",
    " 1 3 3 1\n",
    " 1 4 6 4 1\n",
    " .... \n",
    "avec : C(1,1) = 1\n",
    "           C(k,1) = C(k,k) = 1\n",
    "           C(k,l) = C(k-1,l-1)+C(k-1,l)  pour 1 compris entre 2 et k-1\n",
    "On peut par exemple construire le triangle de Pascal avec n lignes à l’aide d’un cell array avec n éléments, l’élément k du cell array représentant la ligne k du triangle de Pascal, et est un tableau de k valeurs : \n"
   ]
  },
  {
   "cell_type": "code",
   "execution_count": null,
   "metadata": {},
   "outputs": [],
   "source": [
    "n = 10; \n",
    "C = cell(n,1);\n",
    "C{1} = [1];  % la première ligne \n",
    "C{2} = [1 1];  % la deuxième ligne\n",
    " % les lignes suivantes en utilisant la récurrence\n",
    "for k=3:n \n",
    "     C{k} = [1 C{k-1}(1:k-2)+C{k-1}(2:k-1) 1];\n",
    "                 % \\____________ ___________/ % \n",
    "                 %             \\/             % \n",
    "                 %      = C{k}(2:k-1)         % \n",
    "end \n",
    "% affichage de C \n",
    "for k=1:n\n",
    "       fprintf(1, '%5d',C{k}); fprintf(1, '\\n');  % affichage de la ligne k \n",
    "end\n",
    "\n",
    "%Un cell array peut servir pour stocker un tableau de chaîne de caractères.\n",
    "%Exemple : \n",
    "Nom = cell(4,1); \n",
    "Nom{1} = 'Dupond'; \n",
    "Nom{2} = 'Durand'; \n",
    "Nom{3} = 'Martin';\n",
    "Nom{4} = 'Chevalier'; \n",
    "Prenom = cell(4,1);\n",
    "Prenom{1} = 'Pierre'; \n",
    "Prenom{2} = 'Catherine';\n",
    "Prenom{3} = 'Jean-Louis'; \n",
    "Prenom{4} = 'Anne'; \n",
    "\n",
    "% affichage des différentes identités \n",
    "for i=1:length(Nom) \n",
    "fprintf(1, '%s %s\\n', Prenom{i}, Nom{i}); \n",
    "end\n"
   ]
  },
  {
   "cell_type": "markdown",
   "metadata": {},
   "source": [
    "**[1]** Nicolas Szafran -  https://ljk.imag.fr/membres/Nicolas.Szafran/ENSEIGNEMENT/MATLAB_SCILAB/INTRO_MATLAB/intro.pdf"
   ]
  }
 ],
 "metadata": {
  "kernelspec": {
   "display_name": "Octave",
   "language": "octave",
   "name": "octave"
  },
  "language_info": {
   "codemirror_mode": {
    "name": "ipython",
    "version": 3
   },
   "file_extension": ".py",
   "mimetype": "text/x-python",
   "name": "python",
   "nbconvert_exporter": "python",
   "pygments_lexer": "ipython3",
   "version": "3.6.4"
  }
 },
 "nbformat": 4,
 "nbformat_minor": 2
}
