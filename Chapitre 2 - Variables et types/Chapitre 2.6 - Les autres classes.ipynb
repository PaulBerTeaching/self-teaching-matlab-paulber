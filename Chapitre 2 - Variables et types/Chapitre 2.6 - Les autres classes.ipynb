{
 "cells": [
  {
   "cell_type": "markdown",
   "metadata": {},
   "source": [
    "## Classe structure :\n",
    "\n",
    "Une structure est un type de donnée qui est un regroupement de données de types quelconques, chaque donnée de la structure ou champ ayant un identificateur propre. Une structure est créée en indiquant la liste des champs avec pour chacun l’identificateur (sous forme d’une chaîne de caractères) suivie de sa valeur. \n",
    "\n",
    "<u>Exemple :</u> une structure représentant une date sous la forme du jour, du numéro de jour, du mois et de l’année : "
   ]
  },
  {
   "cell_type": "code",
   "execution_count": 1,
   "metadata": {},
   "outputs": [
    {
     "name": "stdout",
     "output_type": "stream",
     "text": [
      "date1 =\n",
      "\n",
      "  scalar structure containing the fields:\n",
      "\n",
      "    jour = Lundi\n",
      "    numj =  27\n",
      "    mois = Septembre\n",
      "    annee =  2004\n",
      "\n",
      "ans = Lundi\n",
      "ans =  27\n",
      "ans = Septembre\n",
      "ans =  2004\n",
      "date2 =\n",
      "\n",
      "  scalar structure containing the fields:\n",
      "\n",
      "    jour = Lundi\n",
      "    numj =  27\n",
      "    mois = Septembre\n",
      "    annee =  2004\n",
      "\n",
      "date2 =\n",
      "\n",
      "  scalar structure containing the fields:\n",
      "\n",
      "    jour = Mardi\n",
      "    numj =  27\n",
      "    mois = Septembre\n",
      "    annee =  2004\n",
      "\n",
      "date2 =\n",
      "\n",
      "  scalar structure containing the fields:\n",
      "\n",
      "    jour = Mardi\n",
      "    numj =  27\n",
      "    mois = Septembre\n",
      "    annee =  2005\n",
      "\n"
     ]
    }
   ],
   "source": [
    "date1 = struct('jour', 'Lundi', ...\n",
    "                          'numj', 27, ... \n",
    "                          'mois', 'Septembre', ...\n",
    "                          'annee', 2004) \n",
    "\n",
    "% accès aux différents champs de la structure \n",
    "date1.jour \n",
    "date1.numj \n",
    "date1.mois \n",
    "date1.annee\n",
    "% copie d’une structure \n",
    "date2 = date1 \n",
    "% modification d’un champ \n",
    "date2.jour = 'Mardi' \n",
    "date2.annee = 2005"
   ]
  },
  {
   "cell_type": "markdown",
   "metadata": {},
   "source": [
    "## Classe table :\n",
    "\n",
    "Les tableaux sont utilisés pour collecter des données et des métadonnées hétérogènes dans un conteneur unique. Ils conviennent au stockage de données orientées colonnes ou tabulaires qui sont souvent stockées sous forme de colonnes dans un fichier texte ou dans un tableur. Ils peuvent accommoder des variables de différents types, tailles, unités, etc ...\n",
    "Les tableaux peuvent être indexés à l'aide de parenthèses, un peu comme les tableaux numériques ordinaires. Mais en plus des index numériques et logiques, vous pouvez utiliser les noms de variables et de lignes de la table.  Vous pouvez accéder aux variables dans une table de la même manière que les champs d'une structure, en utilisant le point  en souscrivant. Vous pouvez accéder au contenu d'une ou plusieurs variables en utilisant l'indice d'accolade.\n",
    "Le type table n'existant pas (encore) sur Octave, nous ne pouvons vous donner un exemple. Sachez simplement que ce type de données existe et s'avère utile dans le cas où vous souhaitez utiliser vos données sur Excel ou R.\n",
    "\n",
    "## Classe pointeur de fonctions ou *function handle* : \n",
    "\n",
    "Vous pouvez créer des poignées de fonction pour les fonctions nommées et anonymes. Vous pouvez stocker plusieurs poignées de fonctions dans un tableau, les sauvegarder et les charger, comme n'importe quelle autre variable.\n",
    "Pour créer une fonction, précéder le nom de la fonction d'un signe @. Par exemple, si vous avez une fonction appelée myfunction, créez une hundle nommée f comme suit :  \n",
    "f = @myfunction;\n",
    "Vous appelez une fonction à l'aide d'un handle de la même manière que vous appelez la fonction directement. Par exemple, supposons que vous ayez une fonction nommée computeSquare, définie comme :"
   ]
  },
  {
   "cell_type": "code",
   "execution_count": 2,
   "metadata": {},
   "outputs": [],
   "source": [
    "function y = computeSquare(x)\n",
    "y = x.^2;\n",
    "end"
   ]
  },
  {
   "cell_type": "markdown",
   "metadata": {},
   "source": [
    "Créez un handle et appelez la fonction pour calculer le carré de quatre."
   ]
  },
  {
   "cell_type": "code",
   "execution_count": 3,
   "metadata": {},
   "outputs": [
    {
     "name": "stdout",
     "output_type": "stream",
     "text": [
      "b =  16\n"
     ]
    }
   ],
   "source": [
    "f = @computeSquare;\n",
    "a = 4;\n",
    "b = f(a)"
   ]
  },
  {
   "cell_type": "markdown",
   "metadata": {},
   "source": [
    "Si la fonction ne nécessite aucune entrée, vous pouvez appeler la fonction avec des parenthèses vides, telles que"
   ]
  },
  {
   "cell_type": "code",
   "execution_count": 4,
   "metadata": {},
   "outputs": [
    {
     "name": "stdout",
     "output_type": "stream",
     "text": [
      "a =  1\n"
     ]
    }
   ],
   "source": [
    "h = @ones;\n",
    "a = h()"
   ]
  },
  {
   "cell_type": "markdown",
   "metadata": {},
   "source": [
    "Sans les parenthèses, l'affectation crée une autre poignée de fonction."
   ]
  },
  {
   "cell_type": "code",
   "execution_count": 5,
   "metadata": {},
   "outputs": [
    {
     "name": "stdout",
     "output_type": "stream",
     "text": [
      "a = @ones\n"
     ]
    }
   ],
   "source": [
    "a = h"
   ]
  },
  {
   "cell_type": "markdown",
   "metadata": {},
   "source": []
  },
  {
   "cell_type": "code",
   "execution_count": null,
   "metadata": {},
   "outputs": [],
   "source": []
  }
 ],
 "metadata": {
  "kernelspec": {
   "display_name": "Octave",
   "language": "octave",
   "name": "octave"
  },
  "language_info": {
   "file_extension": ".m",
   "help_links": [
    {
     "text": "GNU Octave",
     "url": "https://www.gnu.org/software/octave/support.html"
    },
    {
     "text": "Octave Kernel",
     "url": "https://github.com/Calysto/octave_kernel"
    },
    {
     "text": "MetaKernel Magics",
     "url": "https://github.com/calysto/metakernel/blob/master/metakernel/magics/README.md"
    }
   ],
   "mimetype": "text/x-octave",
   "name": "octave",
   "version": "4.4.1"
  }
 },
 "nbformat": 4,
 "nbformat_minor": 2
}
