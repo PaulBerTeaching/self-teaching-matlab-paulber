{
 "cells": [
  {
   "cell_type": "markdown",
   "metadata": {},
   "source": [
    "## Classe logique\n",
    "\n",
    "Le type logique (logical) possède 2 formes : 0 pour faux et 1 pour vrai. Un résultat de type logique est retourné par certaines fonctions ou dans le cas de certains tests. \n",
    "Dans l’exemple qui suit on considère une variable x contenant la valeur 123 et une variable y définie par l’expression mathématique y = exp(log(x)). On teste si les variables x et y contiennent les mêmes valeurs.\n",
    "La variable tst est une variable de type logique qui vaut 1 (vrai) si les valeurs sont égales et 0 (faux) sinon. Suivant la valeur de tst, on affiche la phrase x est egal a y ou la phrase x est different de y. \n",
    "Dans l’exemple proposé, compte-tenu des erreurs d’arrondis lors du calcul de exp(log(123)), la valeur de la variable y ne vaut pas exactement 123. On pourra également considérer le cas où x = 12.\n"
   ]
  },
  {
   "cell_type": "code",
   "execution_count": 1,
   "metadata": {},
   "outputs": [
    {
     "name": "stdout",
     "output_type": "stream",
     "text": [
      "x =  123\n",
      "y =  123.00\n",
      "tst = 0\n",
      "x est different de y \n",
      "x =  123\n",
      "y =  123.00\n",
      "tst = 0\n"
     ]
    }
   ],
   "source": [
    "x = 123\n",
    "y = exp(log(x))\n",
    "tst = ( x==y )\n",
    "if tst, disp('x est egal a y '), else disp('x est different de y '), end\n",
    "x, y, tst\n",
    "format, clear"
   ]
  },
  {
   "cell_type": "code",
   "execution_count": null,
   "metadata": {},
   "outputs": [],
   "source": []
  }
 ],
 "metadata": {
  "kernelspec": {
   "display_name": "Octave",
   "language": "octave",
   "name": "octave"
  },
  "language_info": {
   "file_extension": ".m",
   "help_links": [
    {
     "text": "GNU Octave",
     "url": "https://www.gnu.org/software/octave/support.html"
    },
    {
     "text": "Octave Kernel",
     "url": "https://github.com/Calysto/octave_kernel"
    },
    {
     "text": "MetaKernel Magics",
     "url": "https://github.com/calysto/metakernel/blob/master/metakernel/magics/README.md"
    }
   ],
   "mimetype": "text/x-octave",
   "name": "octave",
   "version": "4.4.1"
  }
 },
 "nbformat": 4,
 "nbformat_minor": 2
}
