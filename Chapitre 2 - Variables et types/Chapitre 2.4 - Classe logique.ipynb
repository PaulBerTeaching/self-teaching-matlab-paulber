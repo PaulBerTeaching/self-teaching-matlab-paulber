{
 "cells": [
  {
   "cell_type": "markdown",
   "metadata": {},
   "source": [
    "## Classe logique\n",
    "\n",
    "Le type logique (logical) possède 2 formes : 0 pour faux et 1 pour vrai. Un résultat de type logique est retourné par certaines fonctions ou dans le cas de certains tests. \n",
    "\n",
    "Dans l’exemple qui suit, on considère une variable x contenant la valeur 123 et une variable y définie par l’expression mathématique $y = e^{\\log(x)}$. On teste si les variables x et y contiennent les mêmes valeurs.\n",
    "\n",
    "La variable tst est une variable de type logique qui vaut 1 (vrai) si les valeurs sont égales et 0 (faux) sinon. Suivant la valeur de tst, on affiche la phrase x est égale à y ou la phrase x est différente de y. \n",
    "Dans l’exemple proposé, compte-tenu des erreurs d’arrondis lors du calcul de $e^{\\log(123)}$, la valeur de la variable y ne vaut pas exactement 123. On pourra également considérer le cas où x = 12.\n"
   ]
  },
  {
   "cell_type": "code",
   "execution_count": null,
   "metadata": {},
   "outputs": [],
   "source": [
    "x = 123\n",
    "y = exp(log(x))\n",
    "tst = ( x==y )\n",
    "if tst, disp('x est egale a y '), else disp('x est differente de y '), end\n",
    "x, y, tst\n",
    "format, clear"
   ]
  }
 ],
 "metadata": {
  "kernelspec": {
   "display_name": "Octave",
   "language": "octave",
   "name": "octave"
  },
  "language_info": {
   "codemirror_mode": {
    "name": "ipython",
    "version": 3
   },
   "file_extension": ".py",
   "mimetype": "text/x-python",
   "name": "python",
   "nbconvert_exporter": "python",
   "pygments_lexer": "ipython3",
   "version": "3.6.4"
  }
 },
 "nbformat": 4,
 "nbformat_minor": 2
}
