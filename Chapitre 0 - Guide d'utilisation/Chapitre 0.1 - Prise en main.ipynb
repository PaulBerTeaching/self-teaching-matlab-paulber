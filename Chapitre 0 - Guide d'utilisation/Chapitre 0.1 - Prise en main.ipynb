{
 "cells": [
  {
   "cell_type": "markdown",
   "metadata": {},
   "source": [
    "# Chapitre 0.1 - Prise en main\n",
    "\n",
    "Vous vous trouvez actuellement sur la première page d'un ensemble de notebook dédié au rattrapage du cours sur le langage Matlab. Cet ensemble peut être vu comme un \"cahier de vacances\" et ne fera l'objet d'aucun cours officiels. Ainsi, nous profitons de cet espace pour vous expliquer comment vous allez procéder. Chaque notion importante sera représentée par un notebook. L'objectif est de suivre pas à pas chacun des notebook pour vous mettre à niveau.\n",
    "\n",
    "## Comment ça marche ?\n",
    "\n",
    "\n",
    "Les notebooks sont une suite de cellules. Vous avez plusieurs types de cellules :\n",
    "\n",
    "- Les cellules \"codes\" : permettent de saisir du code et de l'interpréter (le langage change en fonction du noyau actif);\n",
    "- Les cellules \"markdown\" : permettent de saisir du texte;\n",
    "\n",
    "Les cellules \"markdown\" n'ont pas d'intérêt pour vous, celles que nous vous demanderons de remplir seront principalement des cellules \"codes\". Pour exécuter le code présent dans la fenêtre de commande, il vous suffit de cliquer sur l'onglet \"Run\" situer dans la barre des tâches juste au-dessus. \n",
    "\n",
    "![img1](Capture.png \"Option Run dans votre barre de tâche\")\n",
    "\n",
    "Vous pouvez également utiliser le raccourci \"Shift+Entree\". Essayez d'exécuter le code présent dans la fenêtre suivante :"
   ]
  },
  {
   "cell_type": "code",
   "execution_count": null,
   "metadata": {},
   "outputs": [],
   "source": [
    "2+2"
   ]
  },
  {
   "cell_type": "markdown",
   "metadata": {},
   "source": [
    "Comme vous pouvez le constater, vous avez un retour console qui dit : \"ans = 4\". Ainsi, vous comprenez que la réponse à votre question est 4. Vous pouvez par ailleurs effectuer des opérations plus compliquées, lancez les lignes de commandes suivantes :"
   ]
  },
  {
   "cell_type": "code",
   "execution_count": null,
   "metadata": {},
   "outputs": [],
   "source": [
    "x = 0:2*pi/100:2*pi;\n",
    "plot(x,sin(x))\n",
    "xlabel('X axis name')\n",
    "ylabel('Y axis name')\n",
    "legend('sinus x')"
   ]
  },
  {
   "cell_type": "markdown",
   "metadata": {},
   "source": [
    "**NB :** Lorsque vous voyez d'écrit **In [ \\* ]** sur la partie gauche d'une cellule de code, c'est que le notebook est en train d'exécuter du code. Il est possible que votre code fasse une boucle infini lors des exercices, et donc que le notebook soit bloqué. Pour stopper l'exécution d'une cellule \"code\", il faut que vous alliez dans l'onglet *\"Kernel -> Restart\"*. Si jamais cela ne fonctionne pas, vous pouvez faire un *\"Kernel -> Restart & Clear Output\"*, les résultats précédents seront alors effacés.\n",
    "\n",
    "Bien entendu, il vous est possible de modifier n'importe quelles cellules du document (à l'exception de celles non protégées par nos soins). En cas de problème, il vous suffit juste de recharger la page ou de relançer le lien binder. Vous repartirez alors de 0, ce qui pose évidemment le problème de la sauvegarde de votre progression que nous verrons dans le prochain Notebook. "
   ]
  },
  {
   "cell_type": "markdown",
   "metadata": {},
   "source": [
    "## Différence Octave Matlab ?\n",
    "\n",
    "Pour être exact, le langage de programmation que vous utilisez n'est pas Matlab, il s'agit du logiciel Octave son équivalent OpenSource de Matlab, vous pouvez bien entendu l'installer sur votre machine en suivant le lien en [1]. \n",
    "Il faut savoir que la différence entre Matlab et Octave est très mince, surtout pour la base du langage. Les différences interviendront notamment lorsque vous aurez à prendre en main le System Development Kit de Matlab (l'interface graphique Matlab). Pour cela, nous proposons dans les cours en complément un rapide tour sur l'interface graphique Matlab."
   ]
  },
  {
   "cell_type": "markdown",
   "metadata": {},
   "source": [
    "En espérant que ce format puisse vous convenir et que vous puissiez progresser tranquillement ! N'hésitez pas à faire remonter les éventuels problèmes, les questions ou des oublis en envoyant un mail à l'adresse suivante : <paul.berraute@univ-rennes1.fr>. Pour participer à la création, consultez le chapitre 0.3."
   ]
  }
 ],
 "metadata": {
  "kernelspec": {
   "display_name": "Octave",
   "language": "octave",
   "name": "octave"
  },
  "language_info": {
   "file_extension": ".m",
   "help_links": [
    {
     "text": "GNU Octave",
     "url": "https://www.gnu.org/software/octave/support.html"
    },
    {
     "text": "Octave Kernel",
     "url": "https://github.com/Calysto/octave_kernel"
    },
    {
     "text": "MetaKernel Magics",
     "url": "https://github.com/calysto/metakernel/blob/master/metakernel/magics/README.md"
    }
   ],
   "mimetype": "text/x-octave",
   "name": "octave",
   "version": "4.4.1"
  }
 },
 "nbformat": 4,
 "nbformat_minor": 2
}
