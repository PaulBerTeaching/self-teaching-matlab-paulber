{
 "cells": [
  {
   "attachments": {
    "image.png": {
     "image/png": "[encoded data removed]"
    }
   },
   "cell_type": "markdown",
   "metadata": {},
   "source": [
    "# Chapitre 0.2 - Enregistrer sa progression\n",
    "\n",
    "Comme vous l'aurez compris, votre session n'est pas éternelle, ainsi toutes les modifications faites sur les notebooks ne seront pas sauvegardées automatiquement. Pour sauvegarder vos progressions et vos codes, nous vous conseillons de prendre des notes, d'enregistrer les notebooks en format pdf ou de sauvegarder les fichiers *.m* qui seront créés.\n",
    "\n",
    "## Prendre des notes\n",
    "\n",
    "Nous vous conseillons de garder vos notes papiers au minimum : faites vous un aide-mémoire personnel qui vous permettra de vous débrouiller lors des TPs. Les deux autres méthodes vous permettront d'enregistrer la totalité de ce que vous avez fait sur le notebook.\n",
    "\n",
    "## Exporter le notebook au format pdf\n",
    "\n",
    "Si vous allez dans l'onglet *File*, vous pouvez constater qu'il vous possible d'exporter (*Download as*) votre notebook au format pdf. En exportant le notebook au format pdf, vous sauvegardez à la fois le texte, le code que vous avez saisi et les résultats retournés par Octave. \n",
    "\n",
    "## Enregistrer les fichiers *.m*\n",
    "\n",
    "À partir du chapitre 4, nous allons vous demander de créer des fonctions et des scripts. Ces éléments seront sauvegardés dans des fichiers à côté du notebook. Afin de conserver ces éléments et les réutiliser potentiellement plus tard : vous devez sauvegarder ces fichiers séparément. Pour ce faire, rendez vous sur l'onglet internet du lien Binder (celui contenant le symbole Jupyter : à gauche sur l'image ci-dessous), cochez la case de l'élément qui vous intéresse et sélectionner download.\n",
    "\n",
    "![image.png](attachment:image.png)\n",
    "\n",
    "\n",
    "Les fichiers avec l'extension .m pourront s'exécuter sur les ordinateurs de la faculté contenant Matlab. Vous pouvez également les lancer à partir d'octave si vous l'avez installé sur votre machine.\n"
   ]
  }
 ],
 "metadata": {
  "kernelspec": {
   "display_name": "Octave",
   "language": "octave",
   "name": "octave"
  },
  "language_info": {
   "file_extension": ".m",
   "help_links": [
    {
     "text": "GNU Octave",
     "url": "https://www.gnu.org/software/octave/support.html"
    },
    {
     "text": "Octave Kernel",
     "url": "https://github.com/Calysto/octave_kernel"
    },
    {
     "text": "MetaKernel Magics",
     "url": "https://github.com/calysto/metakernel/blob/master/metakernel/magics/README.md"
    }
   ],
   "mimetype": "text/x-octave",
   "name": "octave",
   "version": "4.4.1"
  }
 },
 "nbformat": 4,
 "nbformat_minor": 2
}
