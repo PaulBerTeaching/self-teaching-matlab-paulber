{
 "cells": [
  {
   "cell_type": "markdown",
   "metadata": {
    "deletable": false,
    "editable": false
   },
   "source": [
    "# Les commentaires dans les fichiers Matlab\n",
    "\n",
    "La rédaction de commentaire pertinent et la documentation des fonctions est une bonne pratique souvent négligée. Malheureusement, elle est nécessaire pour vous rappeler ce que vous faites au fur et à mesure des séances et pour faciliter le travail du correcteur. Plus tard, ces commentaires pourraient même vous aider lorsque vous utiliserez vos fonctions lors de travaux de stage ou de TP dans d'autres modules.\n",
    "\n",
    "C'est pourquoi nous vous proposons un système de commentaire qui peut satisfaire les deux parties. À savoir que certaines fonctions présenteront déjà des commentaires lors de vos séances, mais rien n'est garanti.\n",
    "\n",
    "**Attention :** Il est recommandé de ne pas mettre d'accents dans les commentaires et dans les chaines de caractère en général sous Matlab. En effet, l'encodage n'étant pas le même entre la version Windows et Mac, vos scripts seront pleins de mauvais symboles. Cela vous coutera un temps précieux de tout recorriger. \n",
    "\n",
    "## Commentaires sur les scripts\n",
    "\n",
    "Les scripts servent à résumer une méthodologie d'expérimentation, vous devez utiliser les commentaires pour expliquer chaque étape de votre méthode. Vous pouvez également utiliser les commentaires pour pointer les morceaux de scripts qui ne fonctionnent pas ou pour noter certaines observations. Voici, un exemple que vous pouvez considérer : \n",
    "\n",
    "- À chaque étape : un commentaire en début sur une ligne avec deux %%, si l'étape nécessite une plus grosse explication - revenir à la ligne et commenter avec %; \n",
    "- À chaque conditions et boucles : commenter vos conditions en bout;\n",
    "- À chaque observations pertinentes : un commentaire en bout de ligne;\n",
    "- À chaque problème : le code qui pose problème en commentaire avec un surcommentaire expliquant où vous bloquez.\n",
    "\n",
    "Voici un exemple de script correctement commenté : "
   ]
  },
  {
   "cell_type": "code",
   "execution_count": null,
   "metadata": {
    "deletable": false,
    "editable": false
   },
   "outputs": [],
   "source": [
    "%%\n",
    "%%    Titre du module\n",
    "%%    Groupe :\n",
    "%%    NOMS - Prenoms : ... - ...\n",
    "%%    Date : \n",
    "%%\n",
    "\n",
    "%% Script principal/ script de l'exercice / ...\n",
    "% Commentaire : Ce script sert de support pour expliquer en quoi le rapport largeur/longueur de sepales permet de determiner avec\n",
    "% plus au moins de fiabilite quelle espece d iris nous manipulons.\n",
    "\n",
    "%% Import des donnees\n",
    "% chargement des donnees venant de la celebre base de donnees de Fisher, 1936\n",
    "% Dua, D. and Karra Taniskidou, E. (2017). UCI Machine Learning Repository [http://archive.ics.uci.edu/ml]. Irvine, CA: University of California, School of Information and Computer Science. \n",
    "\n",
    "[x] = importdata('iris.data');\n",
    "\n",
    "%% Ouvrir une figure\n",
    "\n",
    "figure(1) % Attention, si une figure 1 est deja ouverte, son contenu sera superpose a celle que nous cherchons a creer\n",
    "\n",
    "%% Remplir la figure d'un nuage de point de differentes couleurs\n",
    "\n",
    "for i = 1:size(x.data,1)\n",
    "    if strcmp(x.textdata(i,1), 'Iris-setosa') % Si Iris-setosa --> etoile rouge\n",
    "        h1 = plot(x.data(i,1), x.data(i,2),'*r');\n",
    "    elseif strcmp(x.textdata(i,1), 'Iris-versicolor') % Sinon Iris-versicolor --> etoile bleue\n",
    "        h2 = plot(x.data(i,1), x.data(i,2),'*b');\n",
    "    else\n",
    "        h3 = plot(x.data(i,1), x.data(i,2),'*g'); % Enfin Iris-virginica --> etoile verte\n",
    "    end\n",
    "    hold on\n",
    "end\n",
    "hold off\n",
    "\n",
    "%% Ajout des differents elements qui completent notre figure (titre, legende)\n",
    "\n",
    "% xlabel('Longueur des sépales') %ERREUR : le caractere 'é' ne s affiche pas correctement\n",
    "xlabel('Longueur des sepales')\n",
    "ylabel('Largeur des sepales')\n",
    "title('Largueur des sepales en fonction de la longueur pour chaque espece d iris');\n",
    "legend([h1 h2 h3],{'Iris-setosa','Iris-versicolor','Iris-virginica'}, 'location', 'northeastoutside');\n",
    "\n",
    "% grid minor %ERREUR : nous voulions afficher la grille, mais le rendu visuel n'est pas joli sur Jupyter"
   ]
  },
  {
   "cell_type": "markdown",
   "metadata": {
    "deletable": false,
    "editable": false
   },
   "source": [
    "## Commentaires dans les fichiers de fonctions \n",
    "\n",
    "Les commentaires dans les fichiers de fonctions ont un deuxième intérêt : si vous souhaitez les partager ou les réutiliser les commentaires peuvent servir de base de documentation. Le mieux reste d'indiquer à l'utilisateur quelle variable il doit saisir en entrée avec quel type. Voici un exemple complet :"
   ]
  },
  {
   "cell_type": "code",
   "execution_count": null,
   "metadata": {
    "deletable": false,
    "editable": false
   },
   "outputs": [],
   "source": [
    "%%file dec2float.m\n",
    "\n",
    "function [ bitSign, bitExposant, bitMantisse ] = dec2float(realToConvert)\n",
    "%\n",
    "%   DEC2FLOAT convertit un reel en son equivalent flottant sur 32 bits (single)\n",
    "%\n",
    "%   dec2float(realToConvert) convertit realToConvert en son equivalent flottant sur 32 bits (single)\n",
    "%\n",
    "%   * Entree :\n",
    "%       -> realToConvert - single - Reel a transformer en flottant\n",
    "%\n",
    "%   * Sortie :\n",
    "%       -> bitSign - [char] - Bit representant le signe du flottant\n",
    "%       -> bitExposant - [char] - Bits representant la valeur de l exposant du flottant\n",
    "%       -> bitMantisse - [char] - Bits representant la valeur de la mantisse du flottant"
   ]
  },
  {
   "cell_type": "markdown",
   "metadata": {
    "deletable": false,
    "editable": false
   },
   "source": [
    "Il s'agit d'un exemple assez complet, on peut retrouver notamment : \n",
    "\n",
    "- Rôle de la fonction\n",
    "- Exemple d'appel de la fonction\n",
    "- Les paramètres d'entrée avec leur type\n",
    "- Les paramètres de sortie avec leur type\n",
    "\n",
    "Pour retrouver le fonctionnement d'une fonction, rendez vous dans le fichier '.m' correspondant ou utilisez la commande 'help'."
   ]
  },
  {
   "cell_type": "code",
   "execution_count": null,
   "metadata": {},
   "outputs": [],
   "source": [
    "help dec2float"
   ]
  },
  {
   "cell_type": "markdown",
   "metadata": {
    "deletable": false,
    "editable": false
   },
   "source": [
    "**NB :** Dans l'interface graphique Matlab, il vous sera possible d'appuyer sur la touche 'F1' pour obtenir les mêmes indications.\n",
    "\n",
    "**NB :** Pour commenter plusieurs lignes d'un coup, utilisez le raccourci Ctrl+R. Pour décommenter plusieurs lignes d'un coup, utilisez le raccourci Ctrl+T.\n",
    "\n",
    "À présent, vous savez comment commenté correctement vos scripts et fonctions. N'oubliez pas de mettre l'ensemble de vos fichiers '.m' dans un fichier compressé avant de l'envoyer à votre enseignant."
   ]
  }
 ],
 "metadata": {
  "kernelspec": {
   "display_name": "Octave",
   "language": "octave",
   "name": "octave"
  },
  "language_info": {
   "file_extension": ".m",
   "help_links": [
    {
     "text": "GNU Octave",
     "url": "https://www.gnu.org/software/octave/support.html"
    },
    {
     "text": "Octave Kernel",
     "url": "https://github.com/Calysto/octave_kernel"
    },
    {
     "text": "MetaKernel Magics",
     "url": "https://github.com/calysto/metakernel/blob/master/metakernel/magics/README.md"
    }
   ],
   "mimetype": "text/x-octave",
   "name": "octave",
   "version": "4.4.1"
  }
 },
 "nbformat": 4,
 "nbformat_minor": 2
}
