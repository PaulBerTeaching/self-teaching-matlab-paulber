{
 "cells": [
  {
   "cell_type": "markdown",
   "metadata": {
    "deletable": false,
    "slideshow": {
     "slide_type": "-"
    }
   },
   "source": [
    "# Chapitre 6.1 - Exigence sur le compte rendu\n",
    "\n",
    "Le compte rendu est un document qui a plusieurs rôles : \n",
    "\n",
    "- Évaluer votre investissement lors des séances de travaux Pratiques;\n",
    "- Servir de support de révisions pour les examens;\n",
    "- Renforcer l'apprentissage en couplant notions théoriques et pratiques;\n",
    "- S'entraîner pour la rédaction de document scientifique.\n",
    "\n",
    "Les séances de travaux pratiques sont des outils que l'enseignant peut utiliser pour montrer des applications concrètes ou bien des travaux qui sont en cours de recherche. En fonction de votre niveau d'études et du cours, les séances peuvent présenter des techniques mathématiques qui sont soit spécifiques à une situation (méthode de résolution de problème inverse par exemple) ou qui peuvent s'utiliser dans des cas plus généraux (méthode de Newton, factorisation LU,...). \n",
    "\n",
    "Vous devez être capable de différencier les cas, car le compte rendu n'aura pas la même structure et l'enseignant n'aura pas les mêmes attentes. Lorsqu'un compte rendu ne contient pas tous les éléments nécessaires, il devient difficile de donner une note à la hauteur du travail fourni. \n",
    "L'autre point négatif survient lorsque vous souhaitez utiliser la méthode dans un autre cours ou dans la vie réelle, mais que vous ne pouvez pas utiliser un travail complet pour vous aider. \n",
    "\n",
    "Nous attendons pour chaque compte rendu des cours CMA1-CMA2 : \n",
    "\n",
    "- L'ensemble des fichiers Matlab commentés dans un fichier compressé (.zip ou .rar);\n",
    "- Un document au format pdf.\n",
    "\n",
    "Dans le cas de la séance d'introduction à Matlab, le compte rendu vous sert pour noter les notions que vous jugez importantes à garder sous la main et comme support pour les commentaires que vous avez sur la séance. \n",
    "\n",
    "Dans ce chapitre, nous vous donnerons les directives pour les différents éléments du rendu."
   ]
  },
  {
   "cell_type": "markdown",
   "metadata": {},
   "source": [
    "## 6.1.1 Le compte rendu pdf\n",
    "\n",
    "Dans la majorité des cas, il vous suffira de suivre le sujet pour avoir une structure valable de votre compte rendu. Nous vous recommandons donc de lire le sujet au complet avant de commencer, il est également recommandé de lire le sujet avant la séance, vous pourrez trouver le sujet sur le site principal. \n",
    "\n",
    "Lors de votre lecture, essayez d'identifier :\n",
    "\n",
    "- La problématique;\n",
    "- Les algorithmes que vous aurez à implémenter;\n",
    "- Les parties qui composeront votre document.\n",
    "\n",
    "### Les différentes parties que l'on doit retrouver dans votre document\n",
    "\n",
    "Le document doit être organisé avec :\n",
    "\n",
    "- Une page de garde;\n",
    "- Une introduction;\n",
    "- Un développement;\n",
    "- Une conclusion;\n",
    "- (facultatif) Une bibliographie, des annexes, des listes de figure, ....\n",
    "\n",
    "#### La page de garde\n",
    "\n",
    "La page de garde de votre compte rendu doit contenir :\n",
    "\n",
    "- Les logos des écoles qui vous encadre (*ESIR, Université de Rennes 1 , ISTIC*);\n",
    "- Les noms et prénoms des membres composant votre groupe;\n",
    "- Le numéro de votre groupe;\n",
    "- Le titre de l'unité d'étude (*CMA1,...*);\n",
    "- Le titre de votre promotion ainsi que son année (*cupge 2018-2019*);\n",
    "- Le titre du TP;\n",
    "\n",
    "À l'arrière de votre page de garde, vous devrez rajouter la mention suivante : ***\"J'atteste que ce travail est original, qu'il indique de façon appropriée tous les emprunts, et qu'il fait référence de façon appropriée à chaque source utilisée\"***. Il s'agit d'une règle imposée par l'ESIR à partir de l apremière année d'école d'ingénieur, autant commencer à prendre cette habitude. \n",
    "\n",
    "#### L'introduction\n",
    "\n",
    "Vous ne devez pas commencer sa rédaction tant que vos expériences ne sont pas terminées. C’est un contrat rédactionnel que vous avez passé avec votre destinataire. Elle va donc aborder plusieurs sous-parties :\n",
    "\n",
    "- L’annonce du thème et de la problématique\n",
    "- L’annonce du plan (grande partie)\n",
    "- Justifier la méthodologie\n",
    "\n",
    "#### Le développement\n",
    "\n",
    "Le développement doit être organisé en sections qui doivent servir à répondre à la problématique. Les sections sont faciles à identifier grâce au sujet, on peut notamment avoir l'organisation : \n",
    "\n",
    "- Méthologie / Résultats : La partie 'Méthologie' présente les différents algorithmes implémentés et la partie 'Résultats' contient les figures commentées des différentes expériences.\n",
    "- Titre correspondant à une expérience : Parfois la méthodologie est trop faible pour faire toute une partie, vous pouvez donc coupler une partie 'Méthologie / Résultats' dans une même section. Les titres des sections peuvent correspondre avec ceux donné en TP.\n",
    "\n",
    "Vous pouvez bien rajouter des sous-section, des sous sous-section, ... faites en sorte que les titres que vous donnez aient une certaine logique.\n",
    "\n",
    "Dans le cadre académique et universitaire, on applique une classification décimale, c’est à dire :\n",
    "\n",
    "- Partie 1 - Titre \n",
    "    -  1.1 - Sous-titre \n",
    "    -  1.2 - Sous-titre\n",
    "        -  1.2.1 - Sous division titre\n",
    "        -  1.2.2 - Sous division titre \n",
    "- Partie 2 - Titre\n",
    "\n",
    "Vous devez éviter les chiffres romains qui peuvent entrainer des confusions. On distingue plusieurs types de titres :\n",
    "\n",
    "- Titre du compte rendu : Il est normalement sur votre première page en taille 16 au minimum en gras.\n",
    "\n",
    "- Le sous-titre du compte rendu : C’est le titre secondaire, placé en complément du titre de rubrique. Il s’agit de votre problématique qui doit également apparaître sur votre première page en taille 14 et en gras.\n",
    "\n",
    "- Les titres de section : Marque les grandes parties de votre dossier, comme l’introduction/partie de développement/conclusion. Taille 14 et en gras.\n",
    "\n",
    "- Les autres titres : Ce sont les titres secondaires qui subdivisent les sections. Ils sont en taille 12 et en gras.\n",
    "\n",
    "#### La conclusion\n",
    "\n",
    "La conclusion ne doit surtout pas être bâclée, elle doit être soignée, très rigoureuse car c’est la dernière impression que laissez à votre lecteur. Elle se rédige en plusieurs sous parties :\n",
    "\n",
    "- Phase de bilan ou de synthèse : \n",
    "\n",
    "    -  Synthèse des résultats, des expériences;\n",
    "    -  Synthèse de vos analyses;\n",
    "\n",
    "- L’ouverture :\n",
    "\n",
    "    -  Élargir votre vision du sujet;"
   ]
  },
  {
   "cell_type": "markdown",
   "metadata": {},
   "source": [
    "### Le corps de texte\n",
    "\n",
    "Le corps de texte doit être rédigé avec une police avec empattements (Time New Roman par exemple) de taille 10. Les paragraphes doivent être en format **justifiés** et commencer par une tabulation."
   ]
  },
  {
   "cell_type": "markdown",
   "metadata": {},
   "source": [
    "### Les formules mathématiques\n",
    "\n",
    "Les formules mathématiques doivent être :\n",
    "\n",
    "- Soit tapées et intégrées directement dans votre document;\n",
    "- Soit prises en photo par capture, mais :\n",
    "    -  Doivent ne pas avoir de fond (images modifiées sous GIMP par exemple [lien vers le site](https://www.gimp.org/));\n",
    "    -  Doivent avoir une police de la même taille que le texte;\n",
    "    -  Doivent être visibles et propres;\n",
    "    \n",
    "Au bout de de l'équation, vous rajouterez un chiffre qui permettra d'y faire référence dans vos explications. Voici un exemple :\n",
    "\n",
    "<img src=\"equ.png\" alt=\"Exemple d'équation\" style=\"width: 350px;\">\n",
    "\n",
    "*Dans vos explications* : L'équation (1) représente un cas simple de signal sur laquelle nous allons travailler, ..."
   ]
  },
  {
   "cell_type": "markdown",
   "metadata": {},
   "source": [
    "### Présenter ses résultats\n",
    "\n",
    "Une fois que vous avez présenté et implémenté les algorithmes, vous devez résumer vos résultats dans un format adéquat (tableau de valeurs, figure, diagramme ...). Vous devez ajouter cette représentation dans votre compte rendu, pour ensuite la commenter et conclure sur l'expérience que vous avez réalisé. Vous n'oublierez pas d'ajouter une légende à cet élément (\"Tableau 1 -\", \"Figure 1 -\", ...), afin d'y faire référence dans vos observations\n",
    "\n",
    "\n",
    "#### Les figures\n",
    "\n",
    "L'ensemble des figures doivent avoir : \n",
    "\n",
    "- Un titre;\n",
    "- Des titres d'axe;\n",
    "- Une légende si vous représentez plusieurs choses;\n",
    "\n",
    "Voici un exemple que vous pouvez utiliser :\n",
    "\n",
    "<img src=\"Fig.png\" alt=\"Exemple de figure\"/>\n",
    "\n",
    "Faites attention, les figures représente vos résultats, elles doivent donc être belles et lisibles. Ainsi, vous ne devez pas vous contenter de faire une capture d'écran bâclée, vous devez les exporter. Sous Matlab, il vous suffit de cliquer sur l'icône de disquette pour enregistrer votre figure, mais attention le format par défaut est en *figure Matlab (.fig)*. Vous devez donc sélectionner un autre format avant de sauvegarder, sinon vous ne serez plus capable d'ouvrir vos figures sans Matlab. Nous vous recommandons le format *png* ou *svg* pour vos figures.\n",
    "\n",
    "#### Les tableaux\n",
    "\n",
    "Les tableaux doivent également être présenté comme il se doit :\n",
    "\n",
    "<img src=\"Tab.png\" alt=\"Exemple de tableau\"/>"
   ]
  },
  {
   "cell_type": "markdown",
   "metadata": {},
   "source": [
    "### Présenter ses algorithmes\n",
    "\n",
    "Nous pouvons vous demander de rédiger les algorithmes par vous-même à partir des connaissances acquises en TD. Sachant qu'il s'agit d'un travail de méthodologie, vous devez l'inclure dans votre rapport. Il existe un format pour ça : le pseudo-code [wiki](https://en.wikipedia.org/wiki/Pseudocode).\n",
    "\n",
    "Le meilleur moyen de rédiger un algorithme est de passer par LateX [ref](https://www.latex-project.org/), cependant vous n'êtes pas encore familiarisé avec cet outil. Vous allez devoir trouver une astuce pour faire ressortir vos pseudo-codes comme : \n",
    "\n",
    "- Changer de police;\n",
    "- Centrer le texte;\n",
    "- ...\n",
    "\n",
    "Comme pour les figures et les tableaux, vous devez lui ajouter une légende, voici un exemple : \n",
    "\n",
    "<img src=\"Algo.png\" alt=\"Exemple de pseudoalgorithme\"/>"
   ]
  },
  {
   "cell_type": "markdown",
   "metadata": {},
   "source": [
    "## 6.1.2 Présentation du code\n",
    "\n",
    "###  Les noms de variables\n",
    "\n",
    "Les noms de variables, de scripts et de fonctions doivent avoir du sens au maximum. Ainsi, nous pourrons accepter des variables telles que 'i', 'j' pour des index dans les boucles, mais pas pour les variables importantes.\n",
    "\n",
    "**NB :** Les variables que l'on utilise dans les formules mathématiques comme 'S', 'X', ... peuvent être considérés comme ayant du sens.\n",
    "\n",
    "### Organisation des fichiers\n",
    "\n",
    "Lorsque l'on demande d'implémenter des fonctions, il serait bon d'avoir un script qui l'appelle et qui ressort les observations faites. Ainsi, vous devrez rendre les fichiers '.m' contenant vos algorithmes et un script principal qui effectue toutes vos expériences. Afin de gagner des points supplémentaires, vous pouvez rendre votre script principal intéractif.\n",
    "\n",
    "<img src=\"orga.png\" alt=\"Organisation des rendus\" title=\"Représentation de votre rendu\">\n",
    "\n",
    "**Figure 2** - Représentation de votre rendu"
   ]
  },
  {
   "cell_type": "markdown",
   "metadata": {},
   "source": [
    "## 6.1.3 Conclusion\n",
    "\n",
    "L'ensemble des éléments vus ci-dessus compteront dans l'évaluation de vos compte rendus. Chacune de nos grilles de notation contiennent les mentions suivantes :\n",
    "\n",
    "<img src=\"com.png\" alt=\"Bloc communication note\">\n",
    "<img src=\"com2.png\" alt=\"Bloc initiative note\">\n",
    "\n",
    "Ce bloc compte pour 1/3 de la note, donc ne le négligez pas."
   ]
  }
 ],
 "metadata": {
  "kernelspec": {
   "display_name": "Octave",
   "language": "octave",
   "name": "octave"
  },
  "language_info": {
   "file_extension": ".m",
   "help_links": [
    {
     "text": "GNU Octave",
     "url": "https://www.gnu.org/software/octave/support.html"
    },
    {
     "text": "Octave Kernel",
     "url": "https://github.com/Calysto/octave_kernel"
    },
    {
     "text": "MetaKernel Magics",
     "url": "https://github.com/calysto/metakernel/blob/master/metakernel/magics/README.md"
    }
   ],
   "mimetype": "text/x-octave",
   "name": "octave",
   "version": "4.4.1"
  }
 },
 "nbformat": 4,
 "nbformat_minor": 2
}
