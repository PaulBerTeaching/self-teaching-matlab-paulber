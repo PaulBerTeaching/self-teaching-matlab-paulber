{
 "cells": [
  {
   "cell_type": "markdown",
   "metadata": {},
   "source": [
    "# Chapitre 2 : \n",
    "\n",
    "Dans ce chapitre nous allons vous apprendre à faire des scripts et des fonctions. Nous allons également apprendre à utiliser les opérateurs algorithmiques (boucle for, while, if, switch).\n",
    "\n",
    "\n",
    "\n",
    "## 1 : Scripts et fonctions\n",
    "\n",
    "### 1.1 : Introduction \n",
    "\n",
    "Il y a deux formats pour écrire du code en Octave ou en Matlab. On peut soit faire un script, soit faire une fonction. Un script est une succession de lignes de commandes. Dans les deux cas, cela permet de réutiliser une série de commandes en les enregistrant dans un fichier programmme. Les scitps sont un type plus simple que les programmes, du fait que vous stockez les commandes exactement comme vous les auriez écrite dans l'invité de commmande. Cependant, les fonctions sont plus flexibles, plus faciles à réutiliser, par exemple dans un autre script ou une autre fonction.\n",
    "\n",
    "Quand vous executez un script, les lignes de commandes sont effectuéses les unes après les autres par le compilateur jusqu'à la fin du scipt. \n",
    "\n",
    "Une fonction en revanche est une comme un univers parallèle dans lequel on rentre une ou plusieurs entrées (input) et de laquelle on tire plusieurs sorties (output). Dans cette univers parallèle qui est la fonction, l'environnement de travail (workspace) est différent. C'est à dire que les variables qui existaient hors de la fonction n'existent plus sauf si elles ont été introduite en tant qu'input dans le workspace.\n",
    "\n",
    "### 1.2 : Ecrire un script\n",
    "\n",
    "Avec Jupyter, la plateforme que vous êtes en train d'utiliser les scipts peuvent se résumer à des cellules dans laquelle vous mettez autant de lignes de commandes que vous voulez.\n",
    "Par exemple dans la cellule suivante, nous allons créer un script 'hello world'. En informatique, le programme 'hello world' est le premier programme que vous apprenez à faire généralement. \n"
   ]
  },
  {
   "cell_type": "code",
   "execution_count": 54,
   "metadata": {},
   "outputs": [
    {
     "name": "stdout",
     "output_type": "stream",
     "text": [
      "ans = hello world\n"
     ]
    }
   ],
   "source": [
    "%Debut du script\n",
    "sprintf('hello world')\n",
    "%fin du script"
   ]
  },
  {
   "cell_type": "markdown",
   "metadata": {},
   "source": [
    "Dans le script précédent, j'ai utilisé des commentaires avec le symbole '%'. Ceux-ci ne sont pas lu par le compilateur, c'est uniquement pour vous aider."
   ]
  },
  {
   "cell_type": "markdown",
   "metadata": {},
   "source": [
    "###\n",
    "\n",
    "Pour ce qui est des fonctions, les commandes 'function' et 'end' vous permettronr de définir le début et la fin d'une fonction. Si vous ajoutez juste avant la commande '%%file' suivi du nom du fichier. Vous allez créer cette fonction en tant que nouveau fichier.\n",
    "Voici comment écrire une fonction :\n",
    "function[input1, ... , inputN] = NomFonction(output1, ... ,outputN)' où vous devez évidemment remplacer 'NomFonction' par le nom de votre fonction et les variables 'input' et 'output' par vos entrées et sorties de fonction. Voici un petit exemple simple pour calculer une puissance."
   ]
  },
  {
   "cell_type": "code",
   "execution_count": 55,
   "metadata": {},
   "outputs": [
    {
     "name": "stdout",
     "output_type": "stream",
     "text": [
      "Created file 'C:\\Users\\Pierre-Antoine\\Documents\\Jupyter\\puissance.m'.\n"
     ]
    }
   ],
   "source": [
    "%%file puissance.m\n",
    "function[y] = puissance(x,n)\n",
    "% fonction permettant de calculer y=x^n\n",
    "\n",
    "y=x^n;\n",
    "\n",
    "end"
   ]
  },
  {
   "cell_type": "markdown",
   "metadata": {},
   "source": [
    "Vous venez de créer un fichier 'puissance.m' Ce ficihier contient la fonction. On peut l'appeler dans un autre scipt ou une autre fonction désormais."
   ]
  },
  {
   "cell_type": "code",
   "execution_count": 56,
   "metadata": {},
   "outputs": [
    {
     "name": "stdout",
     "output_type": "stream",
     "text": [
      "ans =  243\n"
     ]
    }
   ],
   "source": [
    "puissance(3,5)"
   ]
  },
  {
   "cell_type": "markdown",
   "metadata": {},
   "source": [
    "Vous pouvez maintenant vous amuser à créer d'autres fonctions, avec plusieurs variables d'entrée et de sortie, à les appeler les unes les autres. Si ça vous amuse vous pouvez aussi faire des fonctions récursives qui s'appellent elles-même comme c'est le cas ici. Pour info la commande 'if' vous sera expliquée dans le prochain chapitre."
   ]
  },
  {
   "cell_type": "code",
   "execution_count": 57,
   "metadata": {},
   "outputs": [
    {
     "name": "stdout",
     "output_type": "stream",
     "text": [
      "Created file 'C:\\Users\\Pierre-Antoine\\Documents\\Jupyter\\factorielle.m'.\n"
     ]
    }
   ],
   "source": [
    "%%file factorielle.m\n",
    "function[n] = factorielle(x)\n",
    "if(x <= 1)\n",
    "   n = 1;\n",
    "else\n",
    "   n = x*factorielle(x-1);\n",
    "   x = x-1;\n",
    "endif\n",
    "endfunction"
   ]
  },
  {
   "cell_type": "markdown",
   "metadata": {},
   "source": [
    "## 2 :Opérateurs algorithmiques\n",
    "\n",
    "### 4.1 : Petite introduction\n",
    "\n",
    "Imaginons le problème suivant : on souhaite calculer une suite de Fibonacci sur plusieurs itérations.\n",
    "Nous allons créer deux variables qui contiennent les deux premiers termes de la suite : U(1) et U(2) dans un tableau dénoté U."
   ]
  },
  {
   "cell_type": "code",
   "execution_count": 59,
   "metadata": {},
   "outputs": [
    {
     "name": "stdout",
     "output_type": "stream",
     "text": [
      "U =  1\n",
      "U =\n",
      "\n",
      "   1   1\n",
      "\n"
     ]
    }
   ],
   "source": [
    "clear U\n",
    "U(1)=1\n",
    "U(2)=1"
   ]
  },
  {
   "cell_type": "markdown",
   "metadata": {},
   "source": [
    "Matlab vous renvoit le résultat de la commande ce qui ne sert à rien ici. On préfere donc mettre un \";\" à la fin de la commande pour rendre celle-ci muette."
   ]
  },
  {
   "cell_type": "code",
   "execution_count": 60,
   "metadata": {},
   "outputs": [],
   "source": [
    "U(1)=1;\n",
    "U(2)=1;"
   ]
  },
  {
   "cell_type": "markdown",
   "metadata": {},
   "source": [
    "### 4.2 : Boucle for\n",
    "Nous allons maintenant utiliser une boucle \"for\" pour calculer les coefficients itération après itération jusqu'à l'indice désiré.\n",
    "La boucle \"for\" s'utilise de la manière suivante :\n",
    "    for indice = premier_indice : dernier_indice\n",
    "        ..opéations à faire..\n",
    "    end\n",
    "Notez bien que l'indice s'incrémente (augmente de 1) à chaque fois que vous arrivez en bas de la boucle jusqu'à ce que celle-ci soit terminée.\n",
    "Voici un example de l'utilisation de la boucle \"for\" avec les opérations qui permettent de calculer les termes de Fibonacci."
   ]
  },
  {
   "cell_type": "code",
   "execution_count": 61,
   "metadata": {},
   "outputs": [],
   "source": [
    "for i=3:100\n",
    "    U(i)=U(i-1)+U(i-2);\n",
    "end"
   ]
  },
  {
   "cell_type": "markdown",
   "metadata": {},
   "source": [
    "On peut intérroger Matlab sur les valeurs d'un terme du tableau comme ceci."
   ]
  },
  {
   "cell_type": "code",
   "execution_count": 62,
   "metadata": {},
   "outputs": [
    {
     "name": "stdout",
     "output_type": "stream",
     "text": [
      "ans =    3.5422e+20\n"
     ]
    }
   ],
   "source": [
    "U(100)"
   ]
  },
  {
   "cell_type": "markdown",
   "metadata": {},
   "source": [
    "### 4.3 : Boucle while\n",
    "Nous allons maintenant faire la même chose avec une boucle \"while\". Par exemple, je souhaites calculer les termes de Fibonacci plus petits que 10^3 pour des raisons économiques. \n",
    "La boucle while fonctionne ainsi : \n",
    "    while (condition est vraie)\n",
    "        ..opérations à faire\n",
    "    end\n",
    "A la différence de la boucle for, il n'y a pas d'indice qui s'incrémente mais uniquement une condition qui est testée à chaque début de boucle. Si c'est condition est vraie (c'est à dire si le booléen vaut 1) on rentre dans la boucle while, sinon (le booléen vaut 0) on ne rentre pas dans la boucle. Faites donc attention à ne pas rentrer dans des boucles infinies !\n",
    "\n",
    "Dans notre cas la condition sera sur la majoration du dernier termes de U."
   ]
  },
  {
   "cell_type": "code",
   "execution_count": 63,
   "metadata": {},
   "outputs": [
    {
     "name": "stdout",
     "output_type": "stream",
     "text": [
      "ans =  7778742049\n",
      "ans =  49\n"
     ]
    }
   ],
   "source": [
    "clear U;\n",
    "U(1)=1;\n",
    "U(2)=1;\n",
    "i=2;\n",
    "while U(i)<10^10\n",
    "    U(i+1)=U(i)+U(i-1);\n",
    "    i = i+1;\n",
    "end\n",
    "U(i-1) %Termes le plus grand inférieur à 10^10 \n",
    "i-1 %Indce de ce termes "
   ]
  },
  {
   "cell_type": "markdown",
   "metadata": {},
   "source": [
    "### 4.4 Condition if\n",
    "\n",
    "Cet opérateur permet d'excuter des commandes sous certaines conditions.\n",
    "On l'utiluse ainsi :\n",
    "    if ConditionVraie\n",
    "       opération 1\n",
    "       else opération 2\n",
    "    end\n",
    "Voici un exemple pour tester si un nombre est pair ou impair :"
   ]
  },
  {
   "cell_type": "code",
   "execution_count": 65,
   "metadata": {},
   "outputs": [
    {
     "name": "stdout",
     "output_type": "stream",
     "text": [
      "ans = le nombre est impair\n"
     ]
    }
   ],
   "source": [
    "a = 33;\n",
    "if floor(a/2) == a/2;\n",
    "    sprintf('le nombre est pair')\n",
    "    else\n",
    "    sprintf('le nombre est impair')\n",
    "end"
   ]
  },
  {
   "cell_type": "markdown",
   "metadata": {},
   "source": [
    "si vous avez plus de cas à gérer vous pouvez utiliser 'else if' pour écrire plus de conditions différentes.\n",
    "Voici un exemple avec une fonction qui effectue le jeu du juste prix si vous souhaitez remplacer Vincent Lagaf' par un algorithme."
   ]
  },
  {
   "cell_type": "code",
   "execution_count": 66,
   "metadata": {},
   "outputs": [],
   "source": [
    "mystere = ceil(100*rand); % Je crée un nombre au hasard entre 0 et 100"
   ]
  },
  {
   "cell_type": "code",
   "execution_count": 67,
   "metadata": {},
   "outputs": [],
   "source": [
    "a=50;  % Je propose le nombre 50\n",
    "% Libre à vous de changer ce nombre pour jouer au jeu !"
   ]
  },
  {
   "cell_type": "code",
   "execution_count": 68,
   "metadata": {},
   "outputs": [
    {
     "name": "stdout",
     "output_type": "stream",
     "text": [
      "Created file 'C:\\Users\\Pierre-Antoine\\Documents\\Jupyter\\justeprix.m'.\n"
     ]
    }
   ],
   "source": [
    "%%file justeprix.m\n",
    "function[] = justeprix(a,mystere)\n",
    "    if mystere == a\n",
    "        sprintf('Bravo ! C est le juste prix !')\n",
    "    else if mystere> a\n",
    "        sprintf('C est plus !')\n",
    "    else \n",
    "    sprintf ('C est moins !')\n",
    "    end\n",
    "end"
   ]
  },
  {
   "cell_type": "markdown",
   "metadata": {},
   "source": [
    "Appelez ensuite cette fonction pour savoir si vous avez pensé au bon nombre"
   ]
  },
  {
   "cell_type": "code",
   "execution_count": 69,
   "metadata": {},
   "outputs": [
    {
     "name": "stdout",
     "output_type": "stream",
     "text": [
      "ans = C est plus !\n"
     ]
    }
   ],
   "source": [
    "justeprix(5,mystere)"
   ]
  },
  {
   "cell_type": "markdown",
   "metadata": {},
   "source": [
    "### 4.5 L'opérateur switch\n",
    "\n",
    "Passon maintenant au dernier opérateur de ce tutoriel. L'opérateur switch vous permet de traiter  plusieurs possibilités différentes à l'image du switch case que l'on vient de voire mais sans utiliser de condition et donc de manière plus fluide.\n",
    "On effectue un switch sur les différentes variables possibles d'une variable. \n",
    "Voilà son fonctionnement:\n",
    "\n",
    "Switch variable\n",
    "    case option1\n",
    "        operation1\n",
    "    case option2\n",
    "        operation 2\n",
    "    ...\n",
    "    case optionN\n",
    "        operation N\n",
    " end\n",
    " \n",
    "Comme d'habitude voici un petit exemple. Cette fois, on effectue un switch pour savoir l'orthographe des dix premiers nombres en allemand. Un peu comme un dictionnaire qui va des maths vers l'allemand."
   ]
  },
  {
   "cell_type": "code",
   "execution_count": 53,
   "metadata": {},
   "outputs": [
    {
     "name": "stdout",
     "output_type": "stream",
     "text": [
      "ans = fünf\n"
     ]
    }
   ],
   "source": [
    "number =5; % Prenez le nombre que vous voulez\n",
    "switch number\n",
    "    case 0\n",
    "        sprintf('null')\n",
    "    case 1\n",
    "        sprintf('ein')\n",
    "    case 2\n",
    "        sprintf('zwei')\n",
    "    case 3\n",
    "        sprintf('drei')\n",
    "    case 4\n",
    "        sprintf('vier')\n",
    "    case 5\n",
    "        sprintf('fünf')\n",
    "    case 6\n",
    "        sprintf('sechs')\n",
    "    case 7\n",
    "        sprintf('sieben')\n",
    "    case 8\n",
    "        sprintf('acht')\n",
    "    case 9\n",
    "        sprintf('nein')\n",
    "end"
   ]
  },
  {
   "cell_type": "markdown",
   "metadata": {},
   "source": [
    "Voilà, vous savez maintenent utiliser tous les opérateurs avec Matlab ou Octave, vous allez pouvoir commencer à vous amuser !\n",
    "\n",
    "Si vous avez des questions ou remarques sur cette partie n'hésitez pas à envoyer un mail à pierreantchantal@gmail.com, je me ferais un plaisir de vous répondre."
   ]
  }
 ],
 "metadata": {
  "kernelspec": {
   "display_name": "Octave",
   "language": "octave",
   "name": "octave"
  },
  "language_info": {
   "file_extension": ".m",
   "help_links": [
    {
     "text": "GNU Octave",
     "url": "https://www.gnu.org/software/octave/support.html"
    },
    {
     "text": "Octave Kernel",
     "url": "https://github.com/Calysto/octave_kernel"
    },
    {
     "text": "MetaKernel Magics",
     "url": "https://github.com/calysto/metakernel/blob/master/metakernel/magics/README.md"
    }
   ],
   "mimetype": "text/x-octave",
   "name": "octave",
   "version": "4.4.1"
  }
 },
 "nbformat": 4,
 "nbformat_minor": 2
}
