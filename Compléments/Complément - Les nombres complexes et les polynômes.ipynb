{
 "cells": [
  {
   "cell_type": "markdown",
   "metadata": {},
   "source": [
    "# Complément - Les nombres complexes et les polynômes\n",
    "\n",
    "Lors de TP plus avancés en Matlab, vous rencontrerez forcément des nombres complexes (traitement du signal, ...) ou des polynômes. C'est pourquoi nous vous proposons un petit point sur ces deux éléments.\n",
    "\n",
    "## Les nombres complexes\n",
    "\n",
    "Matlab est un langage informatique qui s'appuie sur les définitions strictes des mathématiques. Lorsque l'on s'habitue à manipuler des nombres réels, il est facile d'oublier que certaines fonctions et symboles que l'on utilise ont un but précis. L'un des exemples les plus flagrants est celui de la transposée. \n",
    "\n",
    "Lors des exemples précédents ou durant les TP, vous avez sans doute utilisé indistictement les opérateurs *'* ou *.'*, exécutez le code ci-dessous et constatez les effets de tels opérateurs sur les complexes."
   ]
  },
  {
   "cell_type": "code",
   "execution_count": null,
   "metadata": {},
   "outputs": [],
   "source": [
    "complexMatrix = [2+i 5-i; i 3];\n",
    "\n",
    "transposee1 = complexMatrix.'\n",
    "transposee2 = complexMatrix'\n"
   ]
  },
  {
   "cell_type": "markdown",
   "metadata": {},
   "source": [
    "Comme vous pouvez le constater, ces opérateurs remplissent des rôles bien différents. Utilisez la commande *help* dans la zone de commande ci-dessous pour voir la définition exacte de ces deux opérateurs.\n",
    "\n",
    "**NB :** Pour avoir la définition d'un opérateur, vous devez entourer celui-ci de deux \" avec la commande help. Ainsi, *help \"+\"* donne la définition de l'opérateur +."
   ]
  },
  {
   "cell_type": "code",
   "execution_count": null,
   "metadata": {},
   "outputs": [],
   "source": []
  },
  {
   "cell_type": "markdown",
   "metadata": {},
   "source": [
    "Ainsi, vous comprenez que les fonctions que vous avez implémentées jusqu'alors ne sont peut être plus valables dans le cas de nombres complexes. Vous comprenez aussi pourquoi vos enseignants sont rigoureux dans les termes qu'ils emploient et qu'ils vous demandent d'acquérir au fur et à mesure cette même rigueur. Dans le contexte de la programmation dans le domaine des mathématiques, si un problème se pose dans vos résultats, pensez à vérifier que vous utilisez bien les bonnes fonctions. En cas de doute, vous pouvez aussi créer des conditions pour vous assurer que les prérequis d'utilisation de la fonction soient bien remplies."
   ]
  },
  {
   "cell_type": "code",
   "execution_count": null,
   "metadata": {},
   "outputs": [],
   "source": [
    "Matrix = [2+i 5-i; i 3];\n",
    "wantedMatrix = [2+i i; 5-i 3];\n",
    "\n",
    "if sum(sum(imag(Matrix)))~=0\n",
    "    transposee1 = Matrix.';\n",
    "    disp('Matrix is complex');\n",
    "else\n",
    "    transposee1 = Matrix';\n",
    "    disp('Matrix is not complex');\n",
    "end\n",
    " \n",
    "if sum(sum(wantedMatrix == transposee1)) == sum(size(wantedMatrix))\n",
    "    disp('We obtain the matrix we wanted');\n",
    "end"
   ]
  },
  {
   "cell_type": "markdown",
   "metadata": {},
   "source": [
    "**Rappel :** Certaines opérations mathématiques peuvent vous retourner des nombres complexes assez facilement comme la racine carrée d'un nombre négatif ($\\sqrt{-1} = i$) ou la fonction de transformée de Fourier.\n",
    "\n",
    "## Les polynômes\n",
    "\n",
    "Les polynômes sont assez simples à manipuler une fois que l'on a compris ceci : nous stockons simplement les valeurs des coefficients au sein d'un vecteur.\n",
    "\n",
    "Exemple : $2 x^3 + 3x^2 + 1$ --> $[ 2,$ $3,$ $0,$ $1].'$\n",
    "\n",
    "Cette représentation est assez logique une fois que vous avez compris la notion de base en algèbre linéaire. Chaque polynôme de degré $n$ peut s'écrire ainsi :\n",
    "\n",
    "$\\mathcal{P}_n(x) = a_n x^n + a_{n-1} x^n + ... + a_1 x + a_0$\n",
    "\n",
    "Ce qui revient à écrire :\n",
    "\n",
    "$\\mathcal{P}_n(x) = [a_n, a_{n-1}, ..., a_1, a_0] * [x^n, x^{n-1}, ..., x, 1]^{\\sf T} = \\textbf{a} \\textbf{x}$\n",
    "\n",
    "Or, étant donné que **x** ne varie jamais pour un $n$ fixé, il est inutile de l'amener explicitement en Matlab. Ainsi, un vecteur peut être un polynôme de degré égal à la longueur du vecteur.\n",
    "\n",
    "Plusieurs moyens peuvent être utiliser pour préciser que le vecteur que l'on manipule est un polynôme :\n",
    "\n",
    "- Ajouter un commentaire lors de la création;\n",
    "- Donner un nom de variable significatif au vecteur;\n",
    "- Utiliser des fonctions Matlab propres aux vecteurs\n",
    "\n",
    "Une fois cette notion intégrée, vous avez accès à tout un arsenal de nouvelles fonctions, par exemple, vous avez à la fonction *roots* qui donne les racines d'un polynôme. Essayez-la dans la fenêtre suivante sur le polynôme $2 x^3 + 3x^2 + 5$ :"
   ]
  },
  {
   "cell_type": "code",
   "execution_count": null,
   "metadata": {},
   "outputs": [],
   "source": []
  },
  {
   "cell_type": "markdown",
   "metadata": {},
   "source": [
    "Vous pouvez tester les résultats pour voir si les solutions sont bonnes. Vous pouvez aussi constater qu'il y a également des nombres complexes dans le résultat, d'où l'importance de faire attention aux familles des paramètres de sortie (notamment lorsque vous rentrez en mode *Débug*). "
   ]
  }
 ],
 "metadata": {
  "kernelspec": {
   "display_name": "Octave",
   "language": "octave",
   "name": "octave"
  },
  "language_info": {
   "file_extension": ".m",
   "help_links": [
    {
     "text": "GNU Octave",
     "url": "https://www.gnu.org/software/octave/support.html"
    },
    {
     "text": "Octave Kernel",
     "url": "https://github.com/Calysto/octave_kernel"
    },
    {
     "text": "MetaKernel Magics",
     "url": "https://github.com/calysto/metakernel/blob/master/metakernel/magics/README.md"
    }
   ],
   "mimetype": "text/x-octave",
   "name": "octave",
   "version": "4.4.1"
  }
 },
 "nbformat": 4,
 "nbformat_minor": 2
}
