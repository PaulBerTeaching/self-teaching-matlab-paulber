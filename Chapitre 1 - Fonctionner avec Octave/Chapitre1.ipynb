{
 "cells": [
  {
   "cell_type": "markdown",
   "metadata": {},
   "source": [
    "# Chapitre 1 : Premiers pas en MATLAB\n",
    "\n",
    "## 1 : Introduction \n",
    "\n",
    "Pour des soucis de licence, le logiciel qui vous sera enseigné sera Octave, il se comprend et s'utilise de la même manière. Apprendre le langage Octave revient à apprendre le langage Matlab.\n",
    "Ces deux logiciels ont l'immense intérêt de constituer un système interactif et convivial de calcul numérique ainsi que de visualisation graphique. Tout ce qui vous sera enseigné sera ici sur Matlab sera également valable pour Octave, donc à l'interface graphique près, on peut dire que c'est quasiment pareil.\n",
    "\n",
    "## 2 : Démarrage\n",
    "\n",
    "Contrairement à Octave il est possible de démarrer Matlab depuis l'invité de commande en tappant la commande \"matlab\". Cette information vous est donc inutile pour ce tutoriel mais ne l'oubliez pas car elle vous sera utile en salle de TP.\n",
    "Une fois sur le logiciel (que ce soit Matlab ou Octave) vous pouvez le quitter avec la commande \"quit\". Cette information neus est également pas très utile car vous passez par Jupyter pour accéder à Octave. Quitter Octave revient alors seulement à redémarrer son noyau dans Jupyter."
   ]
  },
  {
   "cell_type": "code",
   "execution_count": null,
   "metadata": {},
   "outputs": [],
   "source": [
    "quit"
   ]
  },
  {
   "cell_type": "markdown",
   "metadata": {},
   "source": [
    "Si vous voulez tester vous même des commandes pendant que vous suivez ce cours, n'hésitez pas à insérer des cellules sur cette page Jupyter. Une fois que vous l'avez ouvert sur votre naviguateur vous pouvez en faire ce que vous voulez !"
   ]
  },
  {
   "cell_type": "markdown",
   "metadata": {},
   "source": [
    "## 3 : Les commandes de survie\n",
    "\n",
    "Jusque là, les commandes enseignées ne sont pas forcément super utiles pour le tutoriel. Pour toutes les autres commandes, il va falloir apprendre à quoi elles \"help imread\" servent. Pour se faire la commande \"help\" sera votre meilleure amie. Tapez \"help\" suivi du nom de la commande pour mieux comprendre cette dernière. Voici un example:"
   ]
  },
  {
   "cell_type": "code",
   "execution_count": null,
   "metadata": {},
   "outputs": [],
   "source": [
    "help imread"
   ]
  },
  {
   "cell_type": "markdown",
   "metadata": {},
   "source": [
    "On comprend alors en lisant le résultat de la commande que \"imread\" est une fonction permettant de lire des images. Ce qui peut être pratique lorsque vous aurez envie de traiter des images. On a également accès à plein d'infos sur les paramètres à entrer dans la fonction.\n"
   ]
  },
  {
   "cell_type": "markdown",
   "metadata": {},
   "source": [
    "Autre commande utile lorsque vous vous lancez en Matlab, la commande \"lookfor\" qui permet de chercher des commandes en rapport avec ce que vous cherchez. Par exemple si je cherche une commande pour transposer une matrice voici ce que je dois taper :"
   ]
  },
  {
   "cell_type": "code",
   "execution_count": null,
   "metadata": {},
   "outputs": [],
   "source": [
    "lookfor transpose"
   ]
  },
  {
   "cell_type": "markdown",
   "metadata": {},
   "source": [
    "J'observe qu'il existe plusieurs commandes qui font ce travail.\n",
    "On notera qu'un autre moyen de faire et de chercher sur mathwork.com les commandes qu'on souhaite faire. On trouvera en plus des examples d'utilisation des commandes."
   ]
  },
  {
   "cell_type": "markdown",
   "metadata": {},
   "source": [
    "Quelques autres commandes peuvent vous être utiles si vous êtes un peu perdus dans votre code.\n",
    "La commande 'whos' vous indique quelles sont les variables dans votre environnement actuel. Voici un petit exemple:"
   ]
  },
  {
   "cell_type": "code",
   "execution_count": null,
   "metadata": {},
   "outputs": [],
   "source": [
    "tableau = [1 2 3];\n",
    "Matrice = [1 2 ; 3 4];\n",
    "mot ='anticonstitutionnellemment';\n",
    "nombre = 42;\n",
    "whos"
   ]
  },
  {
   "cell_type": "markdown",
   "metadata": {},
   "source": [
    "Si vous voulez détruire une variable. Utilisez la commande 'clear' :"
   ]
  },
  {
   "cell_type": "code",
   "execution_count": null,
   "metadata": {},
   "outputs": [],
   "source": [
    "clear mot\n",
    "whos"
   ]
  },
  {
   "cell_type": "markdown",
   "metadata": {},
   "source": [
    "Si vous voulez détruire toutes vos varibles utilisez 'clear all'."
   ]
  },
  {
   "cell_type": "markdown",
   "metadata": {},
   "source": [
    "## 4 : Se débrouiller face aux erreurs.\n",
    "\n",
    "Dès que vous allez vous commencer à coder, vous allez rapidement être confrontés à des messages d'erreurs. Nous allons voire comment gérer chaque type d'erreur ensemble.\n",
    "\n",
    "### 4.1 : undefined\n",
    "\n",
    "Lorsque vous faîtes appel à une fonction, une variable ou à quoique ce soit que Octave ou Matlab ne connaît pas, vous allez recoir un message d'erreur.\n",
    "En général, cela arrive si vous orthographiez mal vos variables ou vos fonctions.\n",
    "Voici un petit exemple de mauvaise orthographe qui cause un 'erreur undefined'."
   ]
  },
  {
   "cell_type": "code",
   "execution_count": null,
   "metadata": {
    "scrolled": true
   },
   "outputs": [],
   "source": [
    "Depense = 5\n",
    "recette = 3\n",
    "ChiffreDAffaire = recette - depense\n"
   ]
  },
  {
   "cell_type": "markdown",
   "metadata": {},
   "source": [
    "Il fallait faire attention à la majuscule. Essayer vous même dans une cellule !\n",
    "Au passage, si vous ne voulez pas afficher les opérations que vous faites (pour plus de clarté et plus de rapidité), utiliser le \";\" à la fin de la commande.\n",
    "\n",
    "\n",
    "### 4.2 : nonconformant argument / Matrix dimension must agree\n",
    "\n",
    "Lorsque vous utilisez un opérateur mathématiques, si vous essayez de faire des opérations mathématiques illégales, ils est probable que Octave vous empêche de le faire en vous envoyant un message d'erreur. \n",
    "Par exemple si vous souhaitez faire des opérations avec deux matrices de taille incompatible."
   ]
  },
  {
   "cell_type": "code",
   "execution_count": null,
   "metadata": {},
   "outputs": [],
   "source": [
    "a= [10.3 12];\n",
    "b= [14 -117 1/3];\n",
    "a+b\n",
    "a-b\n",
    "a*b\n",
    "a.*b"
   ]
  },
  {
   "cell_type": "markdown",
   "metadata": {},
   "source": [
    "Notez que '\\*' désigne la multiplication matricielle tandis que '.\\*' désigne la multiplication terme à terme.\n",
    "Octave est bien gentil de vous donner les tailles de vos matrices. Matlab quand à lui va vous répondre uniquement 'Matrix dimension must agree'\n",
    "\n",
    "### 4.3 : invalid call\n",
    "\n",
    "Lorsque vous utilisez une fonction Octave ou Matlab, vous devez être attentif aux arguments d'entrée de la fonction. Si vous ne mettez pas le bon nombre d'arguments, la fonction ne pourra pas s'exucuter.\n",
    "\n",
    "Prenons par exemple la fonction 'reshape' qui change la taille des matrices. Cette fonction a  besoin d'au moins deux arguments, un pour la matrice à redimensionner et au moins un autre pour la dimension voulue (vous pouvez trouver ces informations grâce à la commande 'help reshape')."
   ]
  },
  {
   "cell_type": "code",
   "execution_count": null,
   "metadata": {},
   "outputs": [],
   "source": [
    "A = rand(3,4)\n",
    "reshape(A)"
   ]
  },
  {
   "cell_type": "markdown",
   "metadata": {},
   "source": [
    "Voici deux exemples d'utilisation correcte de la fonction pour redimensionner la matrice en vecteur ligne.\n"
   ]
  },
  {
   "cell_type": "code",
   "execution_count": null,
   "metadata": {},
   "outputs": [],
   "source": [
    "reshape(A, [1,12])\n",
    "reshape(A, 1, 12)"
   ]
  },
  {
   "cell_type": "markdown",
   "metadata": {},
   "source": [
    "Durant vos aventures sur Octave ou Matlab vous rencontrerez plusieurs autres types d'erreurs spécifiques aux fonctions et applications que vous allez utiliser. Nous avons listé les erreurs les plus courantes mais nous ne pouvons pas tout énuméré.\n",
    "De manière générale lorsque vous êtes confronté à une erreur, identifiez sur quelle ligne de code et demandez-vous si toutes vos fonctions et variables ont bien été définis, si elles ont le bon format, la bonne taille, si vous utilisez les bon paramètres d'entrée de la fonction. N'hésitez pas à faire des tests en ligne de commande sur des opérations simples pour voire d'où peut venir le problème. Enfin n'hésitez pas à chercher sur internet les mots clefs de ce que vous essayez de faire. L'environmment MathWorks.com illustre beaucoup d'exemples qui permettent de bien comprendre le fonctionnement des différentes choses que vous allez utiliser. Enfin si le problème persistent lors d'un TP faites appel à votre encadrant.\n",
    "\n",
    "\n",
    "Si vous avez des questions ou remarques sur cette partie n'hésitez pas à envoyer un mail à <pierreantchantal@gmail.com>, je me ferais un plaisir de vous répondre."
   ]
  }
 ],
 "metadata": {
  "kernelspec": {
   "display_name": "Octave",
   "language": "octave",
   "name": "octave"
  },
  "language_info": {
   "file_extension": ".m",
   "help_links": [
    {
     "text": "GNU Octave",
     "url": "https://www.gnu.org/software/octave/support.html"
    },
    {
     "text": "Octave Kernel",
     "url": "https://github.com/Calysto/octave_kernel"
    },
    {
     "text": "MetaKernel Magics",
     "url": "https://github.com/calysto/metakernel/blob/master/metakernel/magics/README.md"
    }
   ],
   "mimetype": "text/x-octave",
   "name": "octave",
   "version": "4.4.1"
  }
 },
 "nbformat": 4,
 "nbformat_minor": 2
}
